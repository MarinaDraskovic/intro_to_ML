{
 "cells": [
  {
   "cell_type": "code",
   "execution_count": null,
   "metadata": {},
   "outputs": [],
   "source": [
    "import pandas as pd \n",
    "import sklearn\n",
    "import numpy as np\n",
    "from sklearn import *\n",
    "from sklearn.metrics import mean_squared_error\n"
   ]
  },
  {
   "cell_type": "markdown",
   "metadata": {},
   "source": [
    "## Train"
   ]
  },
  {
   "cell_type": "code",
   "execution_count": 50,
   "metadata": {},
   "outputs": [
    {
     "name": "stdout",
     "output_type": "stream",
     "text": [
      "6.35281364526926e-14\n"
     ]
    },
    {
     "name": "stderr",
     "output_type": "stream",
     "text": [
      "C:\\Users\\paulm\\Anaconda3\\lib\\site-packages\\ipykernel_launcher.py:6: DeprecationWarning: \n",
      ".ix is deprecated. Please use\n",
      ".loc for label based indexing or\n",
      ".iloc for positional indexing\n",
      "\n",
      "See the documentation here:\n",
      "http://pandas.pydata.org/pandas-docs/stable/indexing.html#ix-indexer-is-deprecated\n",
      "  \n",
      "C:\\Users\\paulm\\Anaconda3\\lib\\site-packages\\ipykernel_launcher.py:7: DeprecationWarning: \n",
      ".ix is deprecated. Please use\n",
      ".loc for label based indexing or\n",
      ".iloc for positional indexing\n",
      "\n",
      "See the documentation here:\n",
      "http://pandas.pydata.org/pandas-docs/stable/indexing.html#ix-indexer-is-deprecated\n",
      "  import sys\n",
      "C:\\Users\\paulm\\Anaconda3\\lib\\site-packages\\ipykernel_launcher.py:8: DeprecationWarning: \n",
      ".ix is deprecated. Please use\n",
      ".loc for label based indexing or\n",
      ".iloc for positional indexing\n",
      "\n",
      "See the documentation here:\n",
      "http://pandas.pydata.org/pandas-docs/stable/indexing.html#ix-indexer-is-deprecated\n",
      "  \n"
     ]
    }
   ],
   "source": [
    "train_data = pd.read_csv(\"train.csv\");\n",
    "test_data = pd.read_csv(\"test.csv\");\n",
    "sample_data = pd.read_csv(\"sample.csv\");\n",
    "train_data.head();\n",
    "\n",
    "IDS = train_data.ix[:,0];\n",
    "train_Y = train_data.ix[:, 1];\n",
    "train_X = train_data.ix[:, 2:12];\n",
    "\n",
    "train_Y_pred = train_X.mean(axis = 1, numeric_only=True);\n",
    "RMSE = mean_squared_error(train_Y, train_Y_pred)**0.5;\n",
    "print(RMSE)"
   ]
  },
  {
   "cell_type": "markdown",
   "metadata": {},
   "source": [
    "## Test"
   ]
  },
  {
   "cell_type": "code",
   "execution_count": 55,
   "metadata": {},
   "outputs": [
    {
     "name": "stdout",
     "output_type": "stream",
     "text": [
      "0       -66.002423\n",
      "1       451.406504\n",
      "2      -461.676417\n",
      "3        40.501209\n",
      "4      -126.744722\n",
      "5      -342.534552\n",
      "6      -396.555542\n",
      "7       335.541279\n",
      "8       -99.512421\n",
      "9       304.812540\n",
      "10       68.894530\n",
      "11      412.369195\n",
      "12       54.942371\n",
      "13      -17.005551\n",
      "14     -597.849958\n",
      "15      443.502289\n",
      "16      144.774487\n",
      "17      -57.411164\n",
      "18      134.387828\n",
      "19     -108.983776\n",
      "20      153.824828\n",
      "21      611.735984\n",
      "22      588.389650\n",
      "23     -131.016800\n",
      "24      -61.135621\n",
      "25     -374.248495\n",
      "26       74.157993\n",
      "27      137.438379\n",
      "28      420.086612\n",
      "29      196.765626\n",
      "           ...    \n",
      "1970   -228.376122\n",
      "1971    198.061607\n",
      "1972   -713.006477\n",
      "1973    -89.681865\n",
      "1974   -480.004570\n",
      "1975   -271.733396\n",
      "1976    565.323640\n",
      "1977     96.111483\n",
      "1978    178.613359\n",
      "1979    -61.174332\n",
      "1980   -368.691687\n",
      "1981      4.847747\n",
      "1982    414.413821\n",
      "1983   -760.318317\n",
      "1984     84.912715\n",
      "1985   -251.847326\n",
      "1986    280.707585\n",
      "1987   -391.250278\n",
      "1988    608.499117\n",
      "1989    -27.808461\n",
      "1990   -123.414119\n",
      "1991   -130.829244\n",
      "1992     18.553069\n",
      "1993   -433.165376\n",
      "1994   -303.709126\n",
      "1995    464.715255\n",
      "1996    496.485334\n",
      "1997    -35.135409\n",
      "1998   -131.679185\n",
      "1999    417.269155\n",
      "Length: 2000, dtype: float64\n"
     ]
    },
    {
     "name": "stderr",
     "output_type": "stream",
     "text": [
      "C:\\Users\\paulm\\Anaconda3\\lib\\site-packages\\ipykernel_launcher.py:1: DeprecationWarning: \n",
      ".ix is deprecated. Please use\n",
      ".loc for label based indexing or\n",
      ".iloc for positional indexing\n",
      "\n",
      "See the documentation here:\n",
      "http://pandas.pydata.org/pandas-docs/stable/indexing.html#ix-indexer-is-deprecated\n",
      "  \"\"\"Entry point for launching an IPython kernel.\n",
      "C:\\Users\\paulm\\Anaconda3\\lib\\site-packages\\ipykernel_launcher.py:2: DeprecationWarning: \n",
      ".ix is deprecated. Please use\n",
      ".loc for label based indexing or\n",
      ".iloc for positional indexing\n",
      "\n",
      "See the documentation here:\n",
      "http://pandas.pydata.org/pandas-docs/stable/indexing.html#ix-indexer-is-deprecated\n",
      "  \n"
     ]
    }
   ],
   "source": [
    "IDS = test_data.ix[:,0];\n",
    "test_X = test_data.ix[:, 1:11];\n",
    "\n",
    "test_Y_pred = test_X.mean(axis = 1, numeric_only=True)\n",
    "print(test_Y_pred)"
   ]
  },
  {
   "cell_type": "markdown",
   "metadata": {},
   "source": [
    "## output"
   ]
  },
  {
   "cell_type": "code",
   "execution_count": 57,
   "metadata": {},
   "outputs": [],
   "source": [
    "output = pd.DataFrame({'Id': IDS, 'y': test_Y_pred})\n",
    "output.to_csv('output.csv', index=False)\n"
   ]
  },
  {
   "cell_type": "code",
   "execution_count": null,
   "metadata": {},
   "outputs": [],
   "source": []
  }
 ],
 "metadata": {
  "kernelspec": {
   "display_name": "Python 3",
   "language": "python",
   "name": "python3"
  },
  "language_info": {
   "codemirror_mode": {
    "name": "ipython",
    "version": 3
   },
   "file_extension": ".py",
   "mimetype": "text/x-python",
   "name": "python",
   "nbconvert_exporter": "python",
   "pygments_lexer": "ipython3",
   "version": "3.7.1"
  }
 },
 "nbformat": 4,
 "nbformat_minor": 2
}
