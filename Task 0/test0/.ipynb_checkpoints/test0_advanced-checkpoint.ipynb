{
 "cells": [
  {
   "cell_type": "code",
   "metadata": {},
   "outputs": [],
   "source": [
    "import pandas as pd \n",
    "import sklearn\n",
    "from sklearn import *\n",
    "from sklearn.metrics import mean_squared_error\n",
    "from sklearn.linear_model import LinearRegression\n",
    "from sklearn.preprocessing import PolynomialFeatures\n",
    "\n",
    "# Loading files\n",
    "train_data = pd.read_csv(\"train.csv\")\n",
    "test_data = pd.read_csv(\"test.csv\")\n",
    "sample_data = pd.read_csv(\"sample.csv\")"
   ]
  },
  {
   "cell_type": "code",
   "execution_count": 38,
   "metadata": {},
   "outputs": [],
   "source": [
    "# Slicing training data\n",
    "train_Y = train_data.loc[:,\"y\"]\n",
    "train_X = train_data.loc[:, \"x1\":\"x10\"]\n",
    "\n",
    "IDS = test_data.loc[:,\"Id\"];\n",
    "test_X = test_data.loc[:, \"x1\":\"x10\"]"
   ]
  },
  {
   "cell_type": "code",
   "execution_count": 39,
   "metadata": {},
   "outputs": [
    {
     "name": "stdout",
     "output_type": "stream",
     "text": [
      "RMSE-mean:\t 6.35281364526926e-14\n",
      "RMSE-linear fit\t 1.1159351968712277e-12\n",
      "RMSE-polynomial fit\t 2.818996873370169e-13\n"
     ]
    }
   ],
   "source": [
    "# ------TRAINING DATA--------\n",
    "# Checking the mean on the training data\n",
    "train_Y_pred = train_X.mean(axis = 1, numeric_only=True);\n",
    "RMSE = mean_squared_error(train_Y, train_Y_pred)**0.5;\n",
    "print(\"RMSE-mean:\\t\",RMSE)  # I think this error is just from precision in computer. \n",
    "                            # It should be the same number.\n",
    "\n",
    "# Linear fit\n",
    "linear = LinearRegression().fit(train_X, train_Y);  # Do linear fit\n",
    "train_Y_pred_lin = linear.predict(train_X);\n",
    "RMSE = mean_squared_error(train_Y, train_Y_pred_lin)**0.5;\n",
    "print(\"RMSE-linear fit:\\t\", RMSE)\n",
    "\n",
    "# Polynomial fit\n",
    "poly_features = PolynomialFeatures(degree=1);  # configure degree of polynomial fit\n",
    "x_poly = poly_features.fit_transform(train_X); # get X coordinates to do the fit\n",
    "poly = LinearRegression();\n",
    "poly.fit(x_poly, train_Y); # do fit\n",
    "y_poly_pred = poly.predict(x_poly);\n",
    "RMSE = mean_squared_error(train_Y, y_poly_pred)**0.5\n",
    "print(\"RMSE-polynomial fit:\\t\", RMSE)"
   ]
  },
  {
   "cell_type": "code",
   "execution_count": 40,
   "metadata": {},
   "outputs": [],
   "source": [
    "# ------TEST DATA--------\n",
    "# Checking the mean on the training data\n",
    "test_Y_pred = test_X.mean(axis = 1, numeric_only=True);\n",
    "\n",
    "# Linear fit\n",
    "test_Y_pred_lin = linear.predict(test_X);\n",
    "\n",
    "# Polynomial fit\n",
    "x_poly = poly_features.fit_transform(test_X)\n",
    "y_poly_pred = poly.predict(x_poly)"
   ]
  },
  {
   "cell_type": "code",
   "execution_count": 41,
   "metadata": {},
   "outputs": [],
   "source": [
    "# Output - write to file\n",
    "output = pd.DataFrame({'Id': IDS, 'y': test_Y_pred_lin})\n",
    "output.to_csv('output.csv', index=False)"
   ]
  }
 ],
 "metadata": {
  "kernelspec": {
   "display_name": "Python 3",
   "language": "python",
   "name": "python3"
  },
  "language_info": {
   "codemirror_mode": {
    "name": "ipython",
    "version": 3
   },
   "file_extension": ".py",
   "mimetype": "text/x-python",
   "name": "python",
   "nbconvert_exporter": "python",
   "pygments_lexer": "ipython3",
   "version": "3.7.1"
  }
 },
 "nbformat": 4,
 "nbformat_minor": 4
}
