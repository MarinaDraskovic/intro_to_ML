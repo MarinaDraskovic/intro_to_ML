{
 "cells": [
  {
   "cell_type": "markdown",
   "id": "018ecfd9",
   "metadata": {},
   "source": [
    "# IML - Task 3\n",
    "The goal of this task is to predict if mutations are active or not.\n",
    "\n",
    "Mutations are encoded in the form DHGE (sequence of 4 oredered letters) and their activeness is encoded by 0 (inactive) and 1 (active).\n",
    "\n",
    "A quick analysis of the training data shows that approx. \\$ 3 \\\\% \\$ of the mutations are active. (see below)\n",
    "\n",
    "Analyzing the data (see below) shows that there are 20 different amino acids, there are therefore \\$ 20^4 = 160'000 \\$ possible mutations. We are given \\$ 112'000 \\$ to train on, and \\$ 48'000 \\$ to test on (which gives the score), for a total of \\$ 160'000 \\$ mutations. Our model will therefore see all of the possible data."
   ]
  },
  {
   "cell_type": "markdown",
   "id": "c261b95b",
   "metadata": {},
   "source": [
    "## Loading & analyzing the data\n",
    "First importing the usual libraries:"
   ]
  },
  {
   "cell_type": "code",
   "execution_count": 1,
   "id": "a90a9a27",
   "metadata": {},
   "outputs": [],
   "source": [
    "import pandas as pd\n",
    "import numpy as np\n",
    "from sklearn import *"
   ]
  },
  {
   "cell_type": "markdown",
   "id": "551703fd",
   "metadata": {},
   "source": [
    "Loading the data thanks to Pandas, and a quick overview"
   ]
  },
  {
   "cell_type": "code",
   "execution_count": 2,
   "id": "1a7721c7",
   "metadata": {},
   "outputs": [
    {
     "data": {
      "text/html": [
       "<div>\n",
       "<style scoped>\n",
       "    .dataframe tbody tr th:only-of-type {\n",
       "        vertical-align: middle;\n",
       "    }\n",
       "\n",
       "    .dataframe tbody tr th {\n",
       "        vertical-align: top;\n",
       "    }\n",
       "\n",
       "    .dataframe thead th {\n",
       "        text-align: right;\n",
       "    }\n",
       "</style>\n",
       "<table border=\"1\" class=\"dataframe\">\n",
       "  <thead>\n",
       "    <tr style=\"text-align: right;\">\n",
       "      <th></th>\n",
       "      <th>Sequence</th>\n",
       "      <th>Active</th>\n",
       "    </tr>\n",
       "  </thead>\n",
       "  <tbody>\n",
       "    <tr>\n",
       "      <th>0</th>\n",
       "      <td>DKWL</td>\n",
       "      <td>0</td>\n",
       "    </tr>\n",
       "    <tr>\n",
       "      <th>1</th>\n",
       "      <td>FCHN</td>\n",
       "      <td>0</td>\n",
       "    </tr>\n",
       "    <tr>\n",
       "      <th>2</th>\n",
       "      <td>KDQP</td>\n",
       "      <td>0</td>\n",
       "    </tr>\n",
       "    <tr>\n",
       "      <th>3</th>\n",
       "      <td>FNWI</td>\n",
       "      <td>0</td>\n",
       "    </tr>\n",
       "    <tr>\n",
       "      <th>4</th>\n",
       "      <td>NKRM</td>\n",
       "      <td>0</td>\n",
       "    </tr>\n",
       "    <tr>\n",
       "      <th>...</th>\n",
       "      <td>...</td>\n",
       "      <td>...</td>\n",
       "    </tr>\n",
       "    <tr>\n",
       "      <th>111995</th>\n",
       "      <td>GSME</td>\n",
       "      <td>0</td>\n",
       "    </tr>\n",
       "    <tr>\n",
       "      <th>111996</th>\n",
       "      <td>DLPT</td>\n",
       "      <td>0</td>\n",
       "    </tr>\n",
       "    <tr>\n",
       "      <th>111997</th>\n",
       "      <td>SGHC</td>\n",
       "      <td>0</td>\n",
       "    </tr>\n",
       "    <tr>\n",
       "      <th>111998</th>\n",
       "      <td>KIGT</td>\n",
       "      <td>0</td>\n",
       "    </tr>\n",
       "    <tr>\n",
       "      <th>111999</th>\n",
       "      <td>PGPT</td>\n",
       "      <td>0</td>\n",
       "    </tr>\n",
       "  </tbody>\n",
       "</table>\n",
       "<p>112000 rows × 2 columns</p>\n",
       "</div>"
      ],
      "text/plain": [
       "       Sequence  Active\n",
       "0          DKWL       0\n",
       "1          FCHN       0\n",
       "2          KDQP       0\n",
       "3          FNWI       0\n",
       "4          NKRM       0\n",
       "...         ...     ...\n",
       "111995     GSME       0\n",
       "111996     DLPT       0\n",
       "111997     SGHC       0\n",
       "111998     KIGT       0\n",
       "111999     PGPT       0\n",
       "\n",
       "[112000 rows x 2 columns]"
      ]
     },
     "execution_count": 2,
     "metadata": {},
     "output_type": "execute_result"
    }
   ],
   "source": [
    "train_data = pd.read_csv(\"train.csv\")\n",
    "train_data"
   ]
  },
  {
   "cell_type": "markdown",
   "id": "62c6faff",
   "metadata": {},
   "source": [
    "Splitting them into X and Y components:"
   ]
  },
  {
   "cell_type": "code",
   "execution_count": 3,
   "id": "d8834831",
   "metadata": {},
   "outputs": [],
   "source": [
    "train_X = np.array(train_data.loc[: , \"Sequence\"])\n",
    "train_Y = np.array(train_data.loc[: , \"Active\"])"
   ]
  },
  {
   "cell_type": "markdown",
   "id": "88ee1bd4",
   "metadata": {},
   "source": [
    "Computing the percentage of active mutations:"
   ]
  },
  {
   "cell_type": "code",
   "execution_count": 4,
   "id": "8eff0a3a",
   "metadata": {},
   "outputs": [
    {
     "data": {
      "text/plain": [
       "0.03761607142857143"
      ]
     },
     "execution_count": 4,
     "metadata": {},
     "output_type": "execute_result"
    }
   ],
   "source": [
    "train_Y.mean()"
   ]
  },
  {
   "cell_type": "markdown",
   "id": "d22ebd81",
   "metadata": {},
   "source": [
    "So \\$ \\sim 3\\\\% \\$ of the mutations are active.\n",
    "\n",
    "This means that we have a very unbalanced classification task!"
   ]
  },
  {
   "cell_type": "markdown",
   "id": "25f898fc",
   "metadata": {},
   "source": [
    "Let's now load and preview the test data:"
   ]
  },
  {
   "cell_type": "code",
   "execution_count": 5,
   "id": "120954a8",
   "metadata": {
    "scrolled": false
   },
   "outputs": [
    {
     "data": {
      "text/html": [
       "<div>\n",
       "<style scoped>\n",
       "    .dataframe tbody tr th:only-of-type {\n",
       "        vertical-align: middle;\n",
       "    }\n",
       "\n",
       "    .dataframe tbody tr th {\n",
       "        vertical-align: top;\n",
       "    }\n",
       "\n",
       "    .dataframe thead th {\n",
       "        text-align: right;\n",
       "    }\n",
       "</style>\n",
       "<table border=\"1\" class=\"dataframe\">\n",
       "  <thead>\n",
       "    <tr style=\"text-align: right;\">\n",
       "      <th></th>\n",
       "      <th>Sequence</th>\n",
       "    </tr>\n",
       "  </thead>\n",
       "  <tbody>\n",
       "    <tr>\n",
       "      <th>0</th>\n",
       "      <td>HWFK</td>\n",
       "    </tr>\n",
       "    <tr>\n",
       "      <th>1</th>\n",
       "      <td>MWPW</td>\n",
       "    </tr>\n",
       "    <tr>\n",
       "      <th>2</th>\n",
       "      <td>ALDV</td>\n",
       "    </tr>\n",
       "    <tr>\n",
       "      <th>3</th>\n",
       "      <td>NTLG</td>\n",
       "    </tr>\n",
       "    <tr>\n",
       "      <th>4</th>\n",
       "      <td>LHYY</td>\n",
       "    </tr>\n",
       "    <tr>\n",
       "      <th>...</th>\n",
       "      <td>...</td>\n",
       "    </tr>\n",
       "    <tr>\n",
       "      <th>47995</th>\n",
       "      <td>NRWM</td>\n",
       "    </tr>\n",
       "    <tr>\n",
       "      <th>47996</th>\n",
       "      <td>MMMK</td>\n",
       "    </tr>\n",
       "    <tr>\n",
       "      <th>47997</th>\n",
       "      <td>AFNM</td>\n",
       "    </tr>\n",
       "    <tr>\n",
       "      <th>47998</th>\n",
       "      <td>CRYI</td>\n",
       "    </tr>\n",
       "    <tr>\n",
       "      <th>47999</th>\n",
       "      <td>MKFC</td>\n",
       "    </tr>\n",
       "  </tbody>\n",
       "</table>\n",
       "<p>48000 rows × 1 columns</p>\n",
       "</div>"
      ],
      "text/plain": [
       "      Sequence\n",
       "0         HWFK\n",
       "1         MWPW\n",
       "2         ALDV\n",
       "3         NTLG\n",
       "4         LHYY\n",
       "...        ...\n",
       "47995     NRWM\n",
       "47996     MMMK\n",
       "47997     AFNM\n",
       "47998     CRYI\n",
       "47999     MKFC\n",
       "\n",
       "[48000 rows x 1 columns]"
      ]
     },
     "execution_count": 5,
     "metadata": {},
     "output_type": "execute_result"
    }
   ],
   "source": [
    "test_data = pd.read_csv(\"test.csv\")\n",
    "test_X = np.array(test_data.loc[: , \"Sequence\"])\n",
    "test_data"
   ]
  },
  {
   "cell_type": "markdown",
   "id": "019bbb16",
   "metadata": {},
   "source": [
    "Let's see how many amino acids, and which ones, there are (in the combination of train and test data):"
   ]
  },
  {
   "cell_type": "code",
   "execution_count": 6,
   "id": "6e3ad79c",
   "metadata": {
    "scrolled": true
   },
   "outputs": [
    {
     "name": "stdout",
     "output_type": "stream",
     "text": [
      "{'T', 'I', 'Y', 'G', 'L', 'C', 'Q', 'W', 'K', 'P', 'E', 'N', 'R', 'M', 'D', 'A', 'H', 'V', 'S', 'F'}\n",
      "20\n"
     ]
    }
   ],
   "source": [
    "amino_acids = set(''.join(np.concatenate((train_X, test_X))));\n",
    "print(amino_acids)\n",
    "print(len(amino_acids))"
   ]
  },
  {
   "cell_type": "markdown",
   "id": "f74c6085",
   "metadata": {},
   "source": [
    "## Model considerations\n",
    "How to represent the data?\n",
    "* The data consist of a sequence of 4 chars - but their value doesn't really mean anything (A is not more similar to C than to V)\n",
    "* The order in which they appear might be more more important (for example \\_HQI and HQI_ might be very similar because of the HQI sequence, indepently of what come beofre or after)\n",
    "\n",
    "This suggests one-hot encoding, for example AAMK could be encoded as\n",
    "[(1, 0, ..., 0), (1, 0, ..., 0), (0, 0, ... , 1 , ... 0), (0, 0, ... , 1 , ... 0) ] \n",
    "\n",
    "Then we can either:\n",
    "* use some supervised dimensionality reduction technique\n",
    "* feed it to a neural network designed to do some dimentionality reduction (bottleneck?)\n",
    "    \n"
   ]
  },
  {
   "cell_type": "markdown",
   "id": "dc771df8",
   "metadata": {},
   "source": [
    "### One-hot encoding\n",
    "Let's use the OneHotEncoder from sklearn to do so.\n",
    "\n",
    "Documentation : https://scikit-learn.org/stable/modules/generated/sklearn.preprocessing.OneHotEncoder.html"
   ]
  },
  {
   "cell_type": "code",
   "execution_count": 7,
   "id": "7a6a4d2f",
   "metadata": {},
   "outputs": [],
   "source": [
    "hot = preprocessing.OneHotEncoder(sparse = False);"
   ]
  },
  {
   "cell_type": "markdown",
   "id": "eaae0940",
   "metadata": {},
   "source": [
    "For the encoder to work, we need to separate the string into arrays of 4 characters:"
   ]
  },
  {
   "cell_type": "code",
   "execution_count": 8,
   "id": "6fbeed19",
   "metadata": {
    "scrolled": true
   },
   "outputs": [
    {
     "data": {
      "text/plain": [
       "[['F', 'C', 'H', 'N'],\n",
       " ['K', 'D', 'Q', 'P'],\n",
       " ['F', 'N', 'W', 'I'],\n",
       " ['N', 'K', 'R', 'M']]"
      ]
     },
     "execution_count": 8,
     "metadata": {},
     "output_type": "execute_result"
    }
   ],
   "source": [
    "X_matrix = [list(mut) for mut in train_X]\n",
    "X_matrix[1:5] #first few rows"
   ]
  },
  {
   "cell_type": "code",
   "execution_count": 9,
   "id": "ee9af7c3",
   "metadata": {},
   "outputs": [],
   "source": [
    "hot_train_X = hot.fit_transform(X_matrix, train_Y)"
   ]
  },
  {
   "cell_type": "code",
   "execution_count": 10,
   "id": "588dd1ee",
   "metadata": {},
   "outputs": [
    {
     "data": {
      "text/plain": [
       "(112000, 80)"
      ]
     },
     "execution_count": 10,
     "metadata": {},
     "output_type": "execute_result"
    }
   ],
   "source": [
    "hot_train_X.shape"
   ]
  },
  {
   "cell_type": "markdown",
   "id": "45f18fb7",
   "metadata": {},
   "source": [
    "Use the same encoder to encode the test data to be used later :"
   ]
  },
  {
   "cell_type": "code",
   "execution_count": 11,
   "id": "2c4f295e",
   "metadata": {},
   "outputs": [
    {
     "data": {
      "text/plain": [
       "(48000, 80)"
      ]
     },
     "execution_count": 11,
     "metadata": {},
     "output_type": "execute_result"
    }
   ],
   "source": [
    "X_test_matrix = [list(mut) for mut in test_X];\n",
    "hot_test_X = hot.transform(X_test_matrix);\n",
    "hot_test_X.shape"
   ]
  },
  {
   "cell_type": "markdown",
   "id": "23a4f2bf",
   "metadata": {},
   "source": [
    "### Neural Network\n",
    "\n",
    "https://scikit-learn.org/stable/modules/generated/sklearn.neural_network.MLPClassifier.html#sklearn.neural_network.MLPClassifier"
   ]
  },
  {
   "cell_type": "code",
   "execution_count": 12,
   "id": "82befcbe",
   "metadata": {},
   "outputs": [],
   "source": [
    "NNclf = neural_network.MLPClassifier(verbose=1);"
   ]
  },
  {
   "cell_type": "code",
   "execution_count": 13,
   "id": "31b8050c",
   "metadata": {
    "scrolled": false
   },
   "outputs": [
    {
     "name": "stdout",
     "output_type": "stream",
     "text": [
      "Iteration 1, loss = 0.14409176\n",
      "Iteration 2, loss = 0.06110186\n",
      "Iteration 3, loss = 0.05133877\n",
      "Iteration 4, loss = 0.04376542\n",
      "Iteration 5, loss = 0.03792876\n",
      "Iteration 6, loss = 0.03341289\n",
      "Iteration 7, loss = 0.02993459\n",
      "Iteration 8, loss = 0.02725370\n",
      "Iteration 9, loss = 0.02531310\n",
      "Iteration 10, loss = 0.02366806\n",
      "Iteration 11, loss = 0.02224966\n",
      "Iteration 12, loss = 0.02101115\n",
      "Iteration 13, loss = 0.01993232\n",
      "Iteration 14, loss = 0.01902639\n",
      "Iteration 15, loss = 0.01817944\n",
      "Iteration 16, loss = 0.01742867\n",
      "Iteration 17, loss = 0.01666030\n",
      "Iteration 18, loss = 0.01604607\n",
      "Iteration 19, loss = 0.01532609\n",
      "Iteration 20, loss = 0.01498834\n",
      "Iteration 21, loss = 0.01441349\n",
      "Iteration 22, loss = 0.01376433\n",
      "Iteration 23, loss = 0.01343032\n",
      "Iteration 24, loss = 0.01294980\n",
      "Iteration 25, loss = 0.01258534\n",
      "Iteration 26, loss = 0.01206816\n",
      "Iteration 27, loss = 0.01179570\n",
      "Iteration 28, loss = 0.01138903\n",
      "Iteration 29, loss = 0.01111106\n",
      "Iteration 30, loss = 0.01066836\n",
      "Iteration 31, loss = 0.01036612\n",
      "Iteration 32, loss = 0.01006071\n",
      "Iteration 33, loss = 0.00980643\n",
      "Iteration 34, loss = 0.00945710\n",
      "Iteration 35, loss = 0.00931961\n",
      "Iteration 36, loss = 0.00896953\n",
      "Iteration 37, loss = 0.00872190\n",
      "Iteration 38, loss = 0.00847277\n",
      "Iteration 39, loss = 0.00832850\n",
      "Iteration 40, loss = 0.00798703\n",
      "Iteration 41, loss = 0.00784100\n",
      "Iteration 42, loss = 0.00757198\n",
      "Iteration 43, loss = 0.00751506\n",
      "Iteration 44, loss = 0.00717855\n",
      "Iteration 45, loss = 0.00711709\n",
      "Iteration 46, loss = 0.00683710\n",
      "Iteration 47, loss = 0.00675089\n",
      "Iteration 48, loss = 0.00647654\n",
      "Iteration 49, loss = 0.00627845\n",
      "Iteration 50, loss = 0.00619330\n",
      "Iteration 51, loss = 0.00603222\n",
      "Iteration 52, loss = 0.00592712\n",
      "Iteration 53, loss = 0.00575194\n",
      "Iteration 54, loss = 0.00557917\n",
      "Iteration 55, loss = 0.00544470\n",
      "Iteration 56, loss = 0.00532858\n",
      "Iteration 57, loss = 0.00525058\n",
      "Iteration 58, loss = 0.00502528\n",
      "Iteration 59, loss = 0.00492217\n",
      "Iteration 60, loss = 0.00480582\n",
      "Iteration 61, loss = 0.00470511\n",
      "Iteration 62, loss = 0.00459368\n",
      "Iteration 63, loss = 0.00451572\n",
      "Iteration 64, loss = 0.00432352\n",
      "Iteration 65, loss = 0.00424571\n",
      "Iteration 66, loss = 0.00418036\n",
      "Iteration 67, loss = 0.00406741\n",
      "Iteration 68, loss = 0.00401073\n",
      "Iteration 69, loss = 0.00383259\n",
      "Iteration 70, loss = 0.00382771\n",
      "Iteration 71, loss = 0.00365673\n",
      "Iteration 72, loss = 0.00361116\n",
      "Iteration 73, loss = 0.00355063\n",
      "Iteration 74, loss = 0.00341158\n",
      "Iteration 75, loss = 0.00333015\n",
      "Iteration 76, loss = 0.00326602\n",
      "Iteration 77, loss = 0.00330414\n",
      "Iteration 78, loss = 0.00304060\n",
      "Iteration 79, loss = 0.00307276\n",
      "Iteration 80, loss = 0.00298908\n",
      "Iteration 81, loss = 0.00292903\n",
      "Iteration 82, loss = 0.00287047\n",
      "Iteration 83, loss = 0.00286897\n",
      "Iteration 84, loss = 0.00275322\n",
      "Iteration 85, loss = 0.00277239\n",
      "Iteration 86, loss = 0.00262508\n",
      "Iteration 87, loss = 0.00259866\n",
      "Iteration 88, loss = 0.00260628\n",
      "Iteration 89, loss = 0.00241471\n",
      "Iteration 90, loss = 0.00236552\n",
      "Iteration 91, loss = 0.00244021\n",
      "Iteration 92, loss = 0.00227820\n",
      "Iteration 93, loss = 0.00225201\n",
      "Iteration 94, loss = 0.00222288\n",
      "Iteration 95, loss = 0.00222267\n",
      "Iteration 96, loss = 0.00221754\n",
      "Iteration 97, loss = 0.00213117\n",
      "Iteration 98, loss = 0.00201954\n",
      "Iteration 99, loss = 0.00211735\n",
      "Iteration 100, loss = 0.00200128\n",
      "Iteration 101, loss = 0.00193228\n",
      "Iteration 102, loss = 0.00189939\n",
      "Iteration 103, loss = 0.00189056\n",
      "Iteration 104, loss = 0.00186965\n",
      "Iteration 105, loss = 0.00187590\n",
      "Iteration 106, loss = 0.00181754\n",
      "Iteration 107, loss = 0.00178278\n",
      "Iteration 108, loss = 0.00180974\n",
      "Iteration 109, loss = 0.00169938\n",
      "Training loss did not improve more than tol=0.000100 for 10 consecutive epochs. Stopping.\n"
     ]
    }
   ],
   "source": [
    "NNclf.fit(hot_train_X, train_Y);"
   ]
  },
  {
   "cell_type": "code",
   "execution_count": 14,
   "id": "b25616fc",
   "metadata": {},
   "outputs": [],
   "source": [
    "test_Y = NNclf.predict(hot_test_X)"
   ]
  },
  {
   "cell_type": "code",
   "execution_count": 15,
   "id": "322ac498",
   "metadata": {},
   "outputs": [
    {
     "data": {
      "text/plain": [
       "array([0, 0, 0, ..., 0, 0, 1], dtype=int64)"
      ]
     },
     "execution_count": 15,
     "metadata": {},
     "output_type": "execute_result"
    }
   ],
   "source": [
    "test_Y"
   ]
  },
  {
   "cell_type": "code",
   "execution_count": 16,
   "id": "405a4723",
   "metadata": {},
   "outputs": [
    {
     "data": {
      "text/plain": [
       "0.03816666666666667"
      ]
     },
     "execution_count": 16,
     "metadata": {},
     "output_type": "execute_result"
    }
   ],
   "source": [
    "test_Y.mean()"
   ]
  },
  {
   "cell_type": "markdown",
   "id": "62157cd2",
   "metadata": {},
   "source": [
    "Sanity check : we also get about 3% positiveness in the test data."
   ]
  },
  {
   "cell_type": "markdown",
   "id": "69c92ea8",
   "metadata": {},
   "source": [
    "## Writing the output"
   ]
  },
  {
   "cell_type": "code",
   "execution_count": 17,
   "id": "a158a585",
   "metadata": {},
   "outputs": [],
   "source": [
    "pd.DataFrame(test_Y).to_csv(\"output.csv\", header=None, index=None)"
   ]
  }
 ],
 "metadata": {
  "kernelspec": {
   "display_name": "Python 3",
   "language": "python",
   "name": "python3"
  },
  "language_info": {
   "codemirror_mode": {
    "name": "ipython",
    "version": 3
   },
   "file_extension": ".py",
   "mimetype": "text/x-python",
   "name": "python",
   "nbconvert_exporter": "python",
   "pygments_lexer": "ipython3",
   "version": "3.7.1"
  }
 },
 "nbformat": 4,
 "nbformat_minor": 5
}
