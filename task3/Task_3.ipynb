{
 "cells": [
  {
   "cell_type": "markdown",
   "id": "018ecfd9",
   "metadata": {},
   "source": [
    "# IML - Task 3\n",
    "The goal of this task is to predict if mutations are active or not.\n",
    "\n",
    "Mutations are encoded in the form DHGE (sequence of 4 oredered letters) and their activeness is encoded by 0 (inactive) and 1 (active).\n",
    "\n",
    "A quick analysis of the training data shows that approx. \\$ 3 \\\\% \\$ of the mutations are active. (see below)\n",
    "\n",
    "Analyzing the data (see below) shows that there are 20 different amino acids, there are therefore \\$ 20^4 = 160'000 \\$ possible mutations. We are given \\$ 112'000 \\$ to train on, and \\$ 48'000 \\$ to test on (which gives the score), for a total of \\$ 160'000 \\$ mutations. Our model will therefore see all of the possible data."
   ]
  },
  {
   "cell_type": "markdown",
   "id": "c261b95b",
   "metadata": {},
   "source": [
    "## Loading & analyzing the data\n",
    "First importing the usual libraries:"
   ]
  },
  {
   "cell_type": "code",
   "execution_count": 1,
   "id": "a90a9a27",
   "metadata": {},
   "outputs": [],
   "source": [
    "import pandas as pd\n",
    "import numpy as np\n",
    "from sklearn import *"
   ]
  },
  {
   "cell_type": "markdown",
   "id": "551703fd",
   "metadata": {},
   "source": [
    "Loading the data thanks to Pandas, and a quick overview"
   ]
  },
  {
   "cell_type": "code",
   "execution_count": 2,
   "id": "1a7721c7",
   "metadata": {},
   "outputs": [
    {
     "data": {
      "text/html": [
       "<div>\n",
       "<style scoped>\n",
       "    .dataframe tbody tr th:only-of-type {\n",
       "        vertical-align: middle;\n",
       "    }\n",
       "\n",
       "    .dataframe tbody tr th {\n",
       "        vertical-align: top;\n",
       "    }\n",
       "\n",
       "    .dataframe thead th {\n",
       "        text-align: right;\n",
       "    }\n",
       "</style>\n",
       "<table border=\"1\" class=\"dataframe\">\n",
       "  <thead>\n",
       "    <tr style=\"text-align: right;\">\n",
       "      <th></th>\n",
       "      <th>Sequence</th>\n",
       "      <th>Active</th>\n",
       "    </tr>\n",
       "  </thead>\n",
       "  <tbody>\n",
       "    <tr>\n",
       "      <th>0</th>\n",
       "      <td>DKWL</td>\n",
       "      <td>0</td>\n",
       "    </tr>\n",
       "    <tr>\n",
       "      <th>1</th>\n",
       "      <td>FCHN</td>\n",
       "      <td>0</td>\n",
       "    </tr>\n",
       "    <tr>\n",
       "      <th>2</th>\n",
       "      <td>KDQP</td>\n",
       "      <td>0</td>\n",
       "    </tr>\n",
       "    <tr>\n",
       "      <th>3</th>\n",
       "      <td>FNWI</td>\n",
       "      <td>0</td>\n",
       "    </tr>\n",
       "    <tr>\n",
       "      <th>4</th>\n",
       "      <td>NKRM</td>\n",
       "      <td>0</td>\n",
       "    </tr>\n",
       "    <tr>\n",
       "      <th>...</th>\n",
       "      <td>...</td>\n",
       "      <td>...</td>\n",
       "    </tr>\n",
       "    <tr>\n",
       "      <th>111995</th>\n",
       "      <td>GSME</td>\n",
       "      <td>0</td>\n",
       "    </tr>\n",
       "    <tr>\n",
       "      <th>111996</th>\n",
       "      <td>DLPT</td>\n",
       "      <td>0</td>\n",
       "    </tr>\n",
       "    <tr>\n",
       "      <th>111997</th>\n",
       "      <td>SGHC</td>\n",
       "      <td>0</td>\n",
       "    </tr>\n",
       "    <tr>\n",
       "      <th>111998</th>\n",
       "      <td>KIGT</td>\n",
       "      <td>0</td>\n",
       "    </tr>\n",
       "    <tr>\n",
       "      <th>111999</th>\n",
       "      <td>PGPT</td>\n",
       "      <td>0</td>\n",
       "    </tr>\n",
       "  </tbody>\n",
       "</table>\n",
       "<p>112000 rows × 2 columns</p>\n",
       "</div>"
      ],
      "text/plain": [
       "       Sequence  Active\n",
       "0          DKWL       0\n",
       "1          FCHN       0\n",
       "2          KDQP       0\n",
       "3          FNWI       0\n",
       "4          NKRM       0\n",
       "...         ...     ...\n",
       "111995     GSME       0\n",
       "111996     DLPT       0\n",
       "111997     SGHC       0\n",
       "111998     KIGT       0\n",
       "111999     PGPT       0\n",
       "\n",
       "[112000 rows x 2 columns]"
      ]
     },
     "execution_count": 2,
     "metadata": {},
     "output_type": "execute_result"
    }
   ],
   "source": [
    "train_data = pd.read_csv(\"train.csv\")\n",
    "train_data"
   ]
  },
  {
   "cell_type": "markdown",
   "id": "62c6faff",
   "metadata": {},
   "source": [
    "Splitting them into X and Y components:"
   ]
  },
  {
   "cell_type": "code",
   "execution_count": 3,
   "id": "d8834831",
   "metadata": {},
   "outputs": [],
   "source": [
    "train_X = np.array(train_data.loc[: , \"Sequence\"])\n",
    "train_Y = np.array(train_data.loc[: , \"Active\"])"
   ]
  },
  {
   "cell_type": "markdown",
   "id": "88ee1bd4",
   "metadata": {},
   "source": [
    "Computing the percentage of active mutations:"
   ]
  },
  {
   "cell_type": "code",
   "execution_count": 4,
   "id": "8eff0a3a",
   "metadata": {},
   "outputs": [
    {
     "data": {
      "text/plain": [
       "0.03761607142857143"
      ]
     },
     "execution_count": 4,
     "metadata": {},
     "output_type": "execute_result"
    }
   ],
   "source": [
    "train_Y.mean()"
   ]
  },
  {
   "cell_type": "markdown",
   "id": "d22ebd81",
   "metadata": {},
   "source": [
    "So \\$ \\sim 3\\\\% \\$ of the mutations are active.\n",
    "\n",
    "This means that we have a very unbalanced classification task!"
   ]
  },
  {
   "cell_type": "markdown",
   "id": "25f898fc",
   "metadata": {},
   "source": [
    "Let's now load and preview the test data:"
   ]
  },
  {
   "cell_type": "code",
   "execution_count": 5,
   "id": "120954a8",
   "metadata": {
    "scrolled": false
   },
   "outputs": [
    {
     "data": {
      "text/html": [
       "<div>\n",
       "<style scoped>\n",
       "    .dataframe tbody tr th:only-of-type {\n",
       "        vertical-align: middle;\n",
       "    }\n",
       "\n",
       "    .dataframe tbody tr th {\n",
       "        vertical-align: top;\n",
       "    }\n",
       "\n",
       "    .dataframe thead th {\n",
       "        text-align: right;\n",
       "    }\n",
       "</style>\n",
       "<table border=\"1\" class=\"dataframe\">\n",
       "  <thead>\n",
       "    <tr style=\"text-align: right;\">\n",
       "      <th></th>\n",
       "      <th>Sequence</th>\n",
       "    </tr>\n",
       "  </thead>\n",
       "  <tbody>\n",
       "    <tr>\n",
       "      <th>0</th>\n",
       "      <td>HWFK</td>\n",
       "    </tr>\n",
       "    <tr>\n",
       "      <th>1</th>\n",
       "      <td>MWPW</td>\n",
       "    </tr>\n",
       "    <tr>\n",
       "      <th>2</th>\n",
       "      <td>ALDV</td>\n",
       "    </tr>\n",
       "    <tr>\n",
       "      <th>3</th>\n",
       "      <td>NTLG</td>\n",
       "    </tr>\n",
       "    <tr>\n",
       "      <th>4</th>\n",
       "      <td>LHYY</td>\n",
       "    </tr>\n",
       "    <tr>\n",
       "      <th>...</th>\n",
       "      <td>...</td>\n",
       "    </tr>\n",
       "    <tr>\n",
       "      <th>47995</th>\n",
       "      <td>NRWM</td>\n",
       "    </tr>\n",
       "    <tr>\n",
       "      <th>47996</th>\n",
       "      <td>MMMK</td>\n",
       "    </tr>\n",
       "    <tr>\n",
       "      <th>47997</th>\n",
       "      <td>AFNM</td>\n",
       "    </tr>\n",
       "    <tr>\n",
       "      <th>47998</th>\n",
       "      <td>CRYI</td>\n",
       "    </tr>\n",
       "    <tr>\n",
       "      <th>47999</th>\n",
       "      <td>MKFC</td>\n",
       "    </tr>\n",
       "  </tbody>\n",
       "</table>\n",
       "<p>48000 rows × 1 columns</p>\n",
       "</div>"
      ],
      "text/plain": [
       "      Sequence\n",
       "0         HWFK\n",
       "1         MWPW\n",
       "2         ALDV\n",
       "3         NTLG\n",
       "4         LHYY\n",
       "...        ...\n",
       "47995     NRWM\n",
       "47996     MMMK\n",
       "47997     AFNM\n",
       "47998     CRYI\n",
       "47999     MKFC\n",
       "\n",
       "[48000 rows x 1 columns]"
      ]
     },
     "execution_count": 5,
     "metadata": {},
     "output_type": "execute_result"
    }
   ],
   "source": [
    "test_data = pd.read_csv(\"test.csv\")\n",
    "test_X = np.array(test_data.loc[: , \"Sequence\"])\n",
    "test_data"
   ]
  },
  {
   "cell_type": "markdown",
   "id": "019bbb16",
   "metadata": {},
   "source": [
    "Let's see how many amino acids, and which ones, there are (in the combination of train and test data):"
   ]
  },
  {
   "cell_type": "code",
   "execution_count": 27,
   "id": "6e3ad79c",
   "metadata": {
    "scrolled": true
   },
   "outputs": [
    {
     "name": "stdout",
     "output_type": "stream",
     "text": [
      "{'R', 'W', 'E', 'G', 'A', 'T', 'P', 'L', 'D', 'Y', 'M', 'N', 'F', 'V', 'K', 'H', 'Q', 'C', 'I', 'S'}\n",
      "20\n"
     ]
    }
   ],
   "source": [
    "amino_acids = set(''.join(np.concatenate((train_X, test_X))));\n",
    "print(amino_acids)\n",
    "print(len(amino_acids))"
   ]
  },
  {
   "cell_type": "markdown",
   "id": "f74c6085",
   "metadata": {},
   "source": [
    "## Model considerations\n",
    "How to represent the data?\n",
    "* The data consist of a sequence of 4 chars - but their value doesn't really mean anything (A is not more similar to C than to V)\n",
    "* The order in which they appear might be more more important (for example \\_HQI and HQI_ might be very similar because of the HQI sequence, indepently of what come beofre or after)\n",
    "\n",
    "This suggests one-hot encoding, for example AAMK could be encoded as\n",
    "[(1, 0, ..., 0), (1, 0, ..., 0), (0, 0, ... , 1 , ... 0), (0, 0, ... , 1 , ... 0) ] \n",
    "\n",
    "Then we can either:\n",
    "* use some supervised dimensionality reduction technique\n",
    "* feed it to a neural network designed to do some dimentionality reduction (bottleneck?)\n",
    "    \n"
   ]
  },
  {
   "cell_type": "markdown",
   "id": "dc771df8",
   "metadata": {},
   "source": [
    "### One-hot encoding\n",
    "Let's use the OneHotEncoder from sklearn to do so.\n",
    "\n",
    "Documentation : https://scikit-learn.org/stable/modules/generated/sklearn.preprocessing.OneHotEncoder.html"
   ]
  },
  {
   "cell_type": "code",
   "execution_count": 48,
   "id": "7a6a4d2f",
   "metadata": {},
   "outputs": [],
   "source": [
    "hot = preprocessing.OneHotEncoder(sparse = False);"
   ]
  },
  {
   "cell_type": "markdown",
   "id": "eaae0940",
   "metadata": {},
   "source": [
    "For the encoder to work, we need to separate the string into arrays of 4 characters:"
   ]
  },
  {
   "cell_type": "code",
   "execution_count": 49,
   "id": "6fbeed19",
   "metadata": {
    "scrolled": true
   },
   "outputs": [
    {
     "data": {
      "text/plain": [
       "[['F', 'C', 'H', 'N'],\n",
       " ['K', 'D', 'Q', 'P'],\n",
       " ['F', 'N', 'W', 'I'],\n",
       " ['N', 'K', 'R', 'M']]"
      ]
     },
     "execution_count": 49,
     "metadata": {},
     "output_type": "execute_result"
    }
   ],
   "source": [
    "X_matrix = [list(mut) for mut in train_X]\n",
    "X_matrix[1:5] #first few rows"
   ]
  },
  {
   "cell_type": "code",
   "execution_count": 50,
   "id": "ee9af7c3",
   "metadata": {},
   "outputs": [],
   "source": [
    "hot_train_X = hot.fit_transform(X_matrix, train_Y)"
   ]
  },
  {
   "cell_type": "code",
   "execution_count": 54,
   "id": "588dd1ee",
   "metadata": {},
   "outputs": [
    {
     "data": {
      "text/plain": [
       "(112000, 80)"
      ]
     },
     "execution_count": 54,
     "metadata": {},
     "output_type": "execute_result"
    }
   ],
   "source": [
    "hot_train_X.shape"
   ]
  },
  {
   "cell_type": "markdown",
   "id": "45f18fb7",
   "metadata": {},
   "source": [
    "Use the same encoder to encode the test data to be used later :"
   ]
  },
  {
   "cell_type": "code",
   "execution_count": 55,
   "id": "2c4f295e",
   "metadata": {},
   "outputs": [
    {
     "data": {
      "text/plain": [
       "(48000, 80)"
      ]
     },
     "execution_count": 55,
     "metadata": {},
     "output_type": "execute_result"
    }
   ],
   "source": [
    "X_test_matrix = [list(mut) for mut in test_X];\n",
    "hot_test_X = hot.transform(X_test_matrix);\n",
    "hot_test_X.shape"
   ]
  },
  {
   "cell_type": "markdown",
   "id": "f31969fb",
   "metadata": {},
   "source": [
    "### Dimensionality reduction"
   ]
  },
  {
   "cell_type": "markdown",
   "id": "cf5232ec",
   "metadata": {},
   "source": [
    "Documentation : https://scikit-learn.org/stable/modules/generated/sklearn.discriminant_analysis.LinearDiscriminantAnalysis.html#sklearn.discriminant_analysis.LinearDiscriminantAnalysis"
   ]
  },
  {
   "cell_type": "code",
   "execution_count": 63,
   "id": "bd33bb1f",
   "metadata": {},
   "outputs": [],
   "source": [
    "LDA = discriminant_analysis.LinearDiscriminantAnalysis(n_components=1);"
   ]
  },
  {
   "cell_type": "code",
   "execution_count": 64,
   "id": "b1419a68",
   "metadata": {},
   "outputs": [],
   "source": [
    "reduced = LDA.fit_transform(hot_train_X, train_Y)\n"
   ]
  },
  {
   "cell_type": "code",
   "execution_count": 65,
   "id": "3d04443e",
   "metadata": {},
   "outputs": [
    {
     "data": {
      "text/plain": [
       "array([[-0.99903683],\n",
       "       [-0.44858589],\n",
       "       [-1.29843105],\n",
       "       ...,\n",
       "       [-0.42699739],\n",
       "       [ 2.93273822],\n",
       "       [-0.81832332]])"
      ]
     },
     "execution_count": 65,
     "metadata": {},
     "output_type": "execute_result"
    }
   ],
   "source": [
    "reduced"
   ]
  },
  {
   "cell_type": "markdown",
   "id": "23a4f2bf",
   "metadata": {},
   "source": [
    "### Neural Network\n",
    "\n",
    "https://scikit-learn.org/stable/modules/generated/sklearn.neural_network.MLPClassifier.html#sklearn.neural_network.MLPClassifier"
   ]
  },
  {
   "cell_type": "code",
   "execution_count": 68,
   "id": "82befcbe",
   "metadata": {},
   "outputs": [],
   "source": [
    "NNclf = neural_network.MLPClassifier(verbose=1);"
   ]
  },
  {
   "cell_type": "code",
   "execution_count": 69,
   "id": "31b8050c",
   "metadata": {
    "collapsed": true
   },
   "outputs": [
    {
     "name": "stdout",
     "output_type": "stream",
     "text": [
      "Iteration 1, loss = 0.10371007\n",
      "Iteration 2, loss = 0.05466669\n",
      "Iteration 3, loss = 0.04475319\n",
      "Iteration 4, loss = 0.03778175\n",
      "Iteration 5, loss = 0.03318884\n",
      "Iteration 6, loss = 0.02995580\n",
      "Iteration 7, loss = 0.02736116\n",
      "Iteration 8, loss = 0.02533565\n",
      "Iteration 9, loss = 0.02347988\n",
      "Iteration 10, loss = 0.02209393\n",
      "Iteration 11, loss = 0.02090810\n",
      "Iteration 12, loss = 0.01983494\n",
      "Iteration 13, loss = 0.01882269\n",
      "Iteration 14, loss = 0.01788487\n",
      "Iteration 15, loss = 0.01722820\n",
      "Iteration 16, loss = 0.01652517\n",
      "Iteration 17, loss = 0.01571922\n",
      "Iteration 18, loss = 0.01511389\n",
      "Iteration 19, loss = 0.01451011\n",
      "Iteration 20, loss = 0.01389465\n",
      "Iteration 21, loss = 0.01346986\n",
      "Iteration 22, loss = 0.01302656\n",
      "Iteration 23, loss = 0.01258520\n",
      "Iteration 24, loss = 0.01212331\n",
      "Iteration 25, loss = 0.01170584\n",
      "Iteration 26, loss = 0.01150794\n",
      "Iteration 27, loss = 0.01104488\n",
      "Iteration 28, loss = 0.01057108\n",
      "Iteration 29, loss = 0.01030744\n",
      "Iteration 30, loss = 0.01006923\n",
      "Iteration 31, loss = 0.00972748\n",
      "Iteration 32, loss = 0.00938782\n",
      "Iteration 33, loss = 0.00923747\n",
      "Iteration 34, loss = 0.00884591\n",
      "Iteration 35, loss = 0.00873060\n",
      "Iteration 36, loss = 0.00840964\n",
      "Iteration 37, loss = 0.00820462\n",
      "Iteration 38, loss = 0.00798633\n",
      "Iteration 39, loss = 0.00775883\n",
      "Iteration 40, loss = 0.00756850\n",
      "Iteration 41, loss = 0.00729085\n",
      "Iteration 42, loss = 0.00704077\n",
      "Iteration 43, loss = 0.00689233\n",
      "Iteration 44, loss = 0.00675208\n",
      "Iteration 45, loss = 0.00650359\n",
      "Iteration 46, loss = 0.00634640\n",
      "Iteration 47, loss = 0.00613332\n",
      "Iteration 48, loss = 0.00604969\n",
      "Iteration 49, loss = 0.00586743\n",
      "Iteration 50, loss = 0.00571140\n",
      "Iteration 51, loss = 0.00558161\n",
      "Iteration 52, loss = 0.00546208\n",
      "Iteration 53, loss = 0.00529121\n",
      "Iteration 54, loss = 0.00514175\n",
      "Iteration 55, loss = 0.00496261\n",
      "Iteration 56, loss = 0.00492530\n",
      "Iteration 57, loss = 0.00483069\n",
      "Iteration 58, loss = 0.00470676\n",
      "Iteration 59, loss = 0.00459177\n",
      "Iteration 60, loss = 0.00441919\n",
      "Iteration 61, loss = 0.00435657\n",
      "Iteration 62, loss = 0.00429027\n",
      "Iteration 63, loss = 0.00407469\n",
      "Iteration 64, loss = 0.00397734\n",
      "Iteration 65, loss = 0.00389223\n",
      "Iteration 66, loss = 0.00378206\n",
      "Iteration 67, loss = 0.00373036\n",
      "Iteration 68, loss = 0.00365604\n",
      "Iteration 69, loss = 0.00351557\n",
      "Iteration 70, loss = 0.00340624\n",
      "Iteration 71, loss = 0.00338716\n",
      "Iteration 72, loss = 0.00333598\n",
      "Iteration 73, loss = 0.00320403\n",
      "Iteration 74, loss = 0.00312943\n",
      "Iteration 75, loss = 0.00305741\n",
      "Iteration 76, loss = 0.00298276\n",
      "Iteration 77, loss = 0.00292792\n",
      "Iteration 78, loss = 0.00291023\n",
      "Iteration 79, loss = 0.00282061\n",
      "Iteration 80, loss = 0.00271597\n",
      "Iteration 81, loss = 0.00265821\n",
      "Iteration 82, loss = 0.00259153\n",
      "Iteration 83, loss = 0.00256090\n",
      "Iteration 84, loss = 0.00254927\n",
      "Iteration 85, loss = 0.00245970\n",
      "Iteration 86, loss = 0.00246347\n",
      "Iteration 87, loss = 0.00227456\n",
      "Iteration 88, loss = 0.00229456\n",
      "Iteration 89, loss = 0.00229504\n",
      "Iteration 90, loss = 0.00214645\n",
      "Iteration 91, loss = 0.00216588\n",
      "Iteration 92, loss = 0.00213507\n",
      "Iteration 93, loss = 0.00211968\n",
      "Iteration 94, loss = 0.00202988\n",
      "Iteration 95, loss = 0.00208958\n",
      "Iteration 96, loss = 0.00199072\n",
      "Iteration 97, loss = 0.00199200\n",
      "Iteration 98, loss = 0.00185216\n",
      "Iteration 99, loss = 0.00183513\n",
      "Iteration 100, loss = 0.00184420\n",
      "Iteration 101, loss = 0.00182482\n",
      "Iteration 102, loss = 0.00179199\n",
      "Iteration 103, loss = 0.00174076\n",
      "Iteration 104, loss = 0.00179231\n",
      "Iteration 105, loss = 0.00169270\n",
      "Iteration 106, loss = 0.00159654\n",
      "Iteration 107, loss = 0.00162889\n",
      "Iteration 108, loss = 0.00163039\n",
      "Iteration 109, loss = 0.00168005\n",
      "Training loss did not improve more than tol=0.000100 for 10 consecutive epochs. Stopping.\n"
     ]
    }
   ],
   "source": [
    "NNclf.fit(hot_train_X, train_Y);"
   ]
  },
  {
   "cell_type": "code",
   "execution_count": 70,
   "id": "b25616fc",
   "metadata": {},
   "outputs": [],
   "source": [
    "test_Y = NNclf.predict(hot_test_X)"
   ]
  },
  {
   "cell_type": "code",
   "execution_count": 71,
   "id": "322ac498",
   "metadata": {},
   "outputs": [
    {
     "data": {
      "text/plain": [
       "array([0, 0, 0, ..., 0, 0, 0], dtype=int64)"
      ]
     },
     "execution_count": 71,
     "metadata": {},
     "output_type": "execute_result"
    }
   ],
   "source": [
    "test_Y"
   ]
  },
  {
   "cell_type": "code",
   "execution_count": 74,
   "id": "405a4723",
   "metadata": {},
   "outputs": [
    {
     "data": {
      "text/plain": [
       "0.0348125"
      ]
     },
     "execution_count": 74,
     "metadata": {},
     "output_type": "execute_result"
    }
   ],
   "source": [
    "test_Y.mean()"
   ]
  },
  {
   "cell_type": "markdown",
   "id": "62157cd2",
   "metadata": {},
   "source": [
    "Sanity check : we also get about 3% positiveness in the test data."
   ]
  },
  {
   "cell_type": "markdown",
   "id": "69c92ea8",
   "metadata": {},
   "source": [
    "## Writing the output"
   ]
  },
  {
   "cell_type": "code",
   "execution_count": 77,
   "id": "a158a585",
   "metadata": {},
   "outputs": [],
   "source": [
    "pd.DataFrame(test_Y).to_csv(\"output.csv\", header=None, index=None)"
   ]
  },
  {
   "cell_type": "code",
   "execution_count": null,
   "id": "820d7dda",
   "metadata": {},
   "outputs": [],
   "source": []
  }
 ],
 "metadata": {
  "kernelspec": {
   "display_name": "Python 3",
   "language": "python",
   "name": "python3"
  },
  "language_info": {
   "codemirror_mode": {
    "name": "ipython",
    "version": 3
   },
   "file_extension": ".py",
   "mimetype": "text/x-python",
   "name": "python",
   "nbconvert_exporter": "python",
   "pygments_lexer": "ipython3",
   "version": "3.7.1"
  }
 },
 "nbformat": 4,
 "nbformat_minor": 5
}
