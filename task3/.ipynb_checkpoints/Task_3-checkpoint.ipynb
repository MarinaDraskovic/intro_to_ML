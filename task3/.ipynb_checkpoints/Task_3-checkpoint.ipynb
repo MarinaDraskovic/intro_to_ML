{
 "cells": [
  {
   "cell_type": "markdown",
   "id": "5f1e89d4",
   "metadata": {},
   "source": [
    "# IML - Task 3\n",
    "The goal of this task is to predict if mutations are active or not.\n",
    "\n",
    "Mutations are encoded in the form DHGE (sequence of 4 oredered letters) and their activeness is encoded by 0 (inactive) and 1 (active).\n",
    "\n",
    "A quick analysis of the training data shows that approx. \\$ 3 \\\\% \\$ of the mutations are active. (see below)\n",
    "\n",
    "Analyzing the data (see below) shows that there are 20 different amino acids, there are therefore \\$ 20^4 = 160'000 \\$ possible mutations. We are given \\$ 112'000 \\$ to train on, and \\$ 48'000 \\$ to test on (which gives the score), for a total of \\$ 160'000 \\$ mutations. Our model will therefore see all of the possible data."
   ]
  },
  {
   "cell_type": "markdown",
   "id": "450cd2cc",
   "metadata": {},
   "source": [
    "## Loading & analyzing the data\n",
    "First importing the usual libraries:"
   ]
  },
  {
   "cell_type": "code",
   "execution_count": 1,
   "id": "0bdd1575",
   "metadata": {},
   "outputs": [],
   "source": [
    "import pandas as pd\n",
    "import numpy as np\n",
    "from sklearn import *"
   ]
  },
  {
   "cell_type": "markdown",
   "id": "b2932dba",
   "metadata": {},
   "source": [
    "Loading the data thanks to Pandas, and a quick overview"
   ]
  },
  {
   "cell_type": "code",
   "execution_count": 2,
   "id": "8bc71742",
   "metadata": {},
   "outputs": [
    {
     "data": {
      "text/html": [
       "<div>\n",
       "<style scoped>\n",
       "    .dataframe tbody tr th:only-of-type {\n",
       "        vertical-align: middle;\n",
       "    }\n",
       "\n",
       "    .dataframe tbody tr th {\n",
       "        vertical-align: top;\n",
       "    }\n",
       "\n",
       "    .dataframe thead th {\n",
       "        text-align: right;\n",
       "    }\n",
       "</style>\n",
       "<table border=\"1\" class=\"dataframe\">\n",
       "  <thead>\n",
       "    <tr style=\"text-align: right;\">\n",
       "      <th></th>\n",
       "      <th>Sequence</th>\n",
       "      <th>Active</th>\n",
       "    </tr>\n",
       "  </thead>\n",
       "  <tbody>\n",
       "    <tr>\n",
       "      <th>0</th>\n",
       "      <td>DKWL</td>\n",
       "      <td>0</td>\n",
       "    </tr>\n",
       "    <tr>\n",
       "      <th>1</th>\n",
       "      <td>FCHN</td>\n",
       "      <td>0</td>\n",
       "    </tr>\n",
       "    <tr>\n",
       "      <th>2</th>\n",
       "      <td>KDQP</td>\n",
       "      <td>0</td>\n",
       "    </tr>\n",
       "    <tr>\n",
       "      <th>3</th>\n",
       "      <td>FNWI</td>\n",
       "      <td>0</td>\n",
       "    </tr>\n",
       "    <tr>\n",
       "      <th>4</th>\n",
       "      <td>NKRM</td>\n",
       "      <td>0</td>\n",
       "    </tr>\n",
       "    <tr>\n",
       "      <th>...</th>\n",
       "      <td>...</td>\n",
       "      <td>...</td>\n",
       "    </tr>\n",
       "    <tr>\n",
       "      <th>111995</th>\n",
       "      <td>GSME</td>\n",
       "      <td>0</td>\n",
       "    </tr>\n",
       "    <tr>\n",
       "      <th>111996</th>\n",
       "      <td>DLPT</td>\n",
       "      <td>0</td>\n",
       "    </tr>\n",
       "    <tr>\n",
       "      <th>111997</th>\n",
       "      <td>SGHC</td>\n",
       "      <td>0</td>\n",
       "    </tr>\n",
       "    <tr>\n",
       "      <th>111998</th>\n",
       "      <td>KIGT</td>\n",
       "      <td>0</td>\n",
       "    </tr>\n",
       "    <tr>\n",
       "      <th>111999</th>\n",
       "      <td>PGPT</td>\n",
       "      <td>0</td>\n",
       "    </tr>\n",
       "  </tbody>\n",
       "</table>\n",
       "<p>112000 rows × 2 columns</p>\n",
       "</div>"
      ],
      "text/plain": [
       "       Sequence  Active\n",
       "0          DKWL       0\n",
       "1          FCHN       0\n",
       "2          KDQP       0\n",
       "3          FNWI       0\n",
       "4          NKRM       0\n",
       "...         ...     ...\n",
       "111995     GSME       0\n",
       "111996     DLPT       0\n",
       "111997     SGHC       0\n",
       "111998     KIGT       0\n",
       "111999     PGPT       0\n",
       "\n",
       "[112000 rows x 2 columns]"
      ]
     },
     "execution_count": 2,
     "metadata": {},
     "output_type": "execute_result"
    }
   ],
   "source": [
    "train_data = pd.read_csv(\"train.csv\")\n",
    "train_data"
   ]
  },
  {
   "cell_type": "markdown",
   "id": "7a9a601f",
   "metadata": {},
   "source": [
    "Splitting them into X and Y components:"
   ]
  },
  {
   "cell_type": "code",
   "execution_count": 3,
   "id": "75b85ee4",
   "metadata": {},
   "outputs": [],
   "source": [
    "train_X = np.array(train_data.loc[: , \"Sequence\"])\n",
    "train_Y = np.array(train_data.loc[: , \"Active\"])"
   ]
  },
  {
   "cell_type": "markdown",
   "id": "29f9d951",
   "metadata": {},
   "source": [
    "Computing the percentage of active mutations:"
   ]
  },
  {
   "cell_type": "code",
   "execution_count": 4,
   "id": "b773dd51",
   "metadata": {},
   "outputs": [
    {
     "data": {
      "text/plain": [
       "0.03761607142857143"
      ]
     },
     "execution_count": 4,
     "metadata": {},
     "output_type": "execute_result"
    }
   ],
   "source": [
    "train_Y.mean()"
   ]
  },
  {
   "cell_type": "markdown",
   "id": "8848857b",
   "metadata": {},
   "source": [
    "So \\$ \\sim 3\\\\% \\$ of the mutations are active.\n",
    "\n",
    "This means that we have a very unbalanced classification task!"
   ]
  },
  {
   "cell_type": "markdown",
   "id": "c9c91d70",
   "metadata": {},
   "source": [
    "Let's now load and preview the test data:"
   ]
  },
  {
   "cell_type": "code",
   "execution_count": 5,
   "id": "a1083470",
   "metadata": {
    "scrolled": false
   },
   "outputs": [
    {
     "data": {
      "text/html": [
       "<div>\n",
       "<style scoped>\n",
       "    .dataframe tbody tr th:only-of-type {\n",
       "        vertical-align: middle;\n",
       "    }\n",
       "\n",
       "    .dataframe tbody tr th {\n",
       "        vertical-align: top;\n",
       "    }\n",
       "\n",
       "    .dataframe thead th {\n",
       "        text-align: right;\n",
       "    }\n",
       "</style>\n",
       "<table border=\"1\" class=\"dataframe\">\n",
       "  <thead>\n",
       "    <tr style=\"text-align: right;\">\n",
       "      <th></th>\n",
       "      <th>Sequence</th>\n",
       "    </tr>\n",
       "  </thead>\n",
       "  <tbody>\n",
       "    <tr>\n",
       "      <th>0</th>\n",
       "      <td>HWFK</td>\n",
       "    </tr>\n",
       "    <tr>\n",
       "      <th>1</th>\n",
       "      <td>MWPW</td>\n",
       "    </tr>\n",
       "    <tr>\n",
       "      <th>2</th>\n",
       "      <td>ALDV</td>\n",
       "    </tr>\n",
       "    <tr>\n",
       "      <th>3</th>\n",
       "      <td>NTLG</td>\n",
       "    </tr>\n",
       "    <tr>\n",
       "      <th>4</th>\n",
       "      <td>LHYY</td>\n",
       "    </tr>\n",
       "    <tr>\n",
       "      <th>...</th>\n",
       "      <td>...</td>\n",
       "    </tr>\n",
       "    <tr>\n",
       "      <th>47995</th>\n",
       "      <td>NRWM</td>\n",
       "    </tr>\n",
       "    <tr>\n",
       "      <th>47996</th>\n",
       "      <td>MMMK</td>\n",
       "    </tr>\n",
       "    <tr>\n",
       "      <th>47997</th>\n",
       "      <td>AFNM</td>\n",
       "    </tr>\n",
       "    <tr>\n",
       "      <th>47998</th>\n",
       "      <td>CRYI</td>\n",
       "    </tr>\n",
       "    <tr>\n",
       "      <th>47999</th>\n",
       "      <td>MKFC</td>\n",
       "    </tr>\n",
       "  </tbody>\n",
       "</table>\n",
       "<p>48000 rows × 1 columns</p>\n",
       "</div>"
      ],
      "text/plain": [
       "      Sequence\n",
       "0         HWFK\n",
       "1         MWPW\n",
       "2         ALDV\n",
       "3         NTLG\n",
       "4         LHYY\n",
       "...        ...\n",
       "47995     NRWM\n",
       "47996     MMMK\n",
       "47997     AFNM\n",
       "47998     CRYI\n",
       "47999     MKFC\n",
       "\n",
       "[48000 rows x 1 columns]"
      ]
     },
     "execution_count": 5,
     "metadata": {},
     "output_type": "execute_result"
    }
   ],
   "source": [
    "test_data = pd.read_csv(\"test.csv\")\n",
    "test_X = np.array(test_data.loc[: , \"Sequence\"])\n",
    "test_data"
   ]
  },
  {
   "cell_type": "markdown",
   "id": "577b1f6c",
   "metadata": {},
   "source": [
    "Let's see how many amino acids, and which ones, there are (in the combination of train and test data):"
   ]
  },
  {
   "cell_type": "code",
   "execution_count": 27,
   "id": "791d3d0d",
   "metadata": {
    "scrolled": true
   },
   "outputs": [
    {
     "name": "stdout",
     "output_type": "stream",
     "text": [
      "{'R', 'W', 'E', 'G', 'A', 'T', 'P', 'L', 'D', 'Y', 'M', 'N', 'F', 'V', 'K', 'H', 'Q', 'C', 'I', 'S'}\n",
      "20\n"
     ]
    }
   ],
   "source": [
    "amino_acids = set(''.join(np.concatenate((train_X, test_X))));\n",
    "print(amino_acids)\n",
    "print(len(amino_acids))"
   ]
  },
  {
   "cell_type": "markdown",
   "id": "ee30d8ed",
   "metadata": {},
   "source": [
    "## Model considerations\n",
    "* How to represent the data?\n",
    "    * The data consist of a sequence of 4 chars - but their value doesn't really mean anything (A is not more similar to C than to V)\n",
    "    * The order in which they appear might be more more important (for example \\_HQI and HQI_ might be very similar because of the HQI sequence, indepently of what come beofre or after)"
   ]
  },
  {
   "cell_type": "code",
   "execution_count": null,
   "id": "04b3dcc1",
   "metadata": {},
   "outputs": [],
   "source": []
  }
 ],
 "metadata": {
  "kernelspec": {
   "display_name": "Python 3",
   "language": "python",
   "name": "python3"
  },
  "language_info": {
   "codemirror_mode": {
    "name": "ipython",
    "version": 3
   },
   "file_extension": ".py",
   "mimetype": "text/x-python",
   "name": "python",
   "nbconvert_exporter": "python",
   "pygments_lexer": "ipython3",
   "version": "3.7.1"
  }
 },
 "nbformat": 4,
 "nbformat_minor": 5
}
