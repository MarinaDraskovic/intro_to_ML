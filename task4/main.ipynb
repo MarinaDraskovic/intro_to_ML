{
 "cells": [
  {
   "cell_type": "code",
   "execution_count": 1,
   "id": "c2c17f6c",
   "metadata": {},
   "outputs": [],
   "source": [
    "from PIL import Image\n",
    "from collections import Counter\n",
    "import numpy as np\n",
    "import pandas as pd\n",
    "from zipfile import ZipFile \n",
    "import torch\n",
    "from torchvision import transforms"
   ]
  },
  {
   "cell_type": "code",
   "execution_count": 2,
   "id": "2a4a79a0",
   "metadata": {},
   "outputs": [],
   "source": [
    "# Opening zipped folder with images\n",
    "food_zip = \"food.zip\"  # Specifying zip file name\n",
    "\n",
    "with ZipFile(food_zip, 'r') as zip:  # Opening zip file in read mode\n",
    "    # zip.printdir()\n",
    "    zip.extractall()"
   ]
  },
  {
   "cell_type": "code",
   "execution_count": 22,
   "id": "cbd98d77",
   "metadata": {},
   "outputs": [
    {
     "name": "stdout",
     "output_type": "stream",
     "text": [
      "torch.Size([1, 3, 307, 459])\n"
     ]
    }
   ],
   "source": [
    "# Transforming image to tensor\n",
    "img = Image.open(\"food/01312.jpg\")                        # Accessing one image\n",
    "\n",
    "pil_to_tensor = transforms.ToTensor()(img).unsqueeze_(0)  # Transform image to tensor\n",
    "print(pil_to_tensor.shape) \n",
    "\n",
    "# Transform tensor to image\n",
    "# tensor_to_pil = transforms.ToPILImage()(pil_to_tensor.squeeze_(0))  \n",
    "# print(tensor_to_pil.size)"
   ]
  },
  {
   "cell_type": "code",
   "execution_count": 25,
   "id": "5bb61aa3",
   "metadata": {},
   "outputs": [],
   "source": [
    "# Load text files. Add label 1 to all train triplets. \n",
    "# Change the order of second and third columns of train triplets and add label 0.\n",
    "# Append these two matrices of train data into train_triplets tensor.\n",
    "file_path = 'train_triplets.txt'\n",
    "train_triplets = pd.read_csv(file_path, sep=' ', header=None, dtype=str)     # Load train data\n",
    "train_triplets[3] = 1                                                        # Adding column with ones\n",
    "swap_columns = train_triplets.reindex(columns=[0, 2, 1])                     # Swapping column order\n",
    "swap_columns[3] = 0                                                          # Adding column with zeros\n",
    "train_triplets = pd.concat([train_triplets, swap_columns])                   # Concatinating 2 matrices (with labels 1 and 0)\n",
    "train_triplets = torch.tensor(train_triplets.astype(str).astype(int).values) # Converting to tensor\n",
    "\n",
    "file_path = 'test_triplets.txt'                                              # Load test data\n",
    "test_triplets = pd.read_csv(file_path, sep=' ', header=None, dtype=str)\n",
    "test_triplets = torch.tensor(test_triplets.astype(str).astype(int).values)   # Convert to tensor"
   ]
  }
 ],
 "metadata": {
  "kernelspec": {
   "display_name": "Python 3",
   "language": "python",
   "name": "python3"
  },
  "language_info": {
   "codemirror_mode": {
    "name": "ipython",
    "version": 3
   },
   "file_extension": ".py",
   "mimetype": "text/x-python",
   "name": "python",
   "nbconvert_exporter": "python",
   "pygments_lexer": "ipython3",
   "version": "3.8.5"
  }
 },
 "nbformat": 4,
 "nbformat_minor": 5
}
