{
 "cells": [
  {
   "cell_type": "code",
   "execution_count": 1,
   "metadata": {},
   "outputs": [],
   "source": [
    "import pandas as pd\n",
    "import sklearn\n",
    "import numpy as np\n",
    "from sklearn import *"
   ]
  },
  {
   "cell_type": "code",
   "execution_count": 2,
   "metadata": {},
   "outputs": [],
   "source": [
    "# Loading the files\n",
    "train_data = pd.read_csv(\"train.csv\") \n",
    "train_labels = pd.read_csv(\"sample.csv\")"
   ]
  },
  {
   "cell_type": "code",
   "execution_count": 3,
   "metadata": {},
   "outputs": [],
   "source": [
    "# Extracting id-s, y-s and x-s from the given train data\n",
    "id = np.array(train_data.loc[:,'Id'])\n",
    "y = np.array(train_data.loc[:, 'y'])      \n",
    "x = np.array(train_data.loc[:, 'x1':'x5'])"
   ]
  },
  {
   "cell_type": "code",
   "execution_count": 21,
   "metadata": {},
   "outputs": [],
   "source": [
    "# For doing linear fit we don't need just x, but also x^2, e^x, cos(x) and 1\n",
    "square_x = x*x\n",
    "exp_x = np.exp(x)\n",
    "cos_x = np.cos(x)\n",
    "const = np.ones((len(x),1))\n",
    "\n",
    "# We create a new table, similar to the one that contains only x1-x5\n",
    "# This new table (called new_x) contains phi_1(x) - phi_21(x) \n",
    "new_x = np.concatenate((x, square_x, exp_x, cos_x, const), axis=1)"
   ]
  },
  {
   "cell_type": "code",
   "execution_count": 50,
   "metadata": {},
   "outputs": [],
   "source": [
    "# Linear fit\n",
    "linear = linear_model.LinearRegression(fit_intercept = False).fit(new_x, y);  \n",
    "# Do linear fit, the biais (or intercept) is already included in the cst feature 21\n",
    "y_pred = linear.predict(new_x);\n",
    "\n",
    "# This vanilla linear fit is probably doing over fitting..."
   ]
  },
  {
   "cell_type": "code",
   "execution_count": 51,
   "metadata": {},
   "outputs": [],
   "source": [
    "# Calculate RMSE\n",
    "rmse = np.sqrt(sum((y-y_pred)*(y-y_pred)) / len(y)) "
   ]
  },
  {
   "cell_type": "code",
   "execution_count": 52,
   "metadata": {},
   "outputs": [
    {
     "data": {
      "text/plain": [
       "1.9320922401311769"
      ]
     },
     "execution_count": 52,
     "metadata": {},
     "output_type": "execute_result"
    }
   ],
   "source": [
    "rmse"
   ]
  },
  {
   "cell_type": "code",
   "execution_count": 53,
   "metadata": {},
   "outputs": [],
   "source": [
    "pd.DataFrame(linear.coef_).to_csv(\"outout.csv\", header=None, index=None, sep='\\n', float_format='%.16g')   \n",
    "# Printing to file"
   ]
  }
 ],
 "metadata": {
  "kernelspec": {
   "display_name": "Python 3",
   "language": "python",
   "name": "python3"
  },
  "language_info": {
   "codemirror_mode": {
    "name": "ipython",
    "version": 3
   },
   "file_extension": ".py",
   "mimetype": "text/x-python",
   "name": "python",
   "nbconvert_exporter": "python",
   "pygments_lexer": "ipython3",
   "version": "3.7.1"
  }
 },
 "nbformat": 4,
 "nbformat_minor": 4
}
