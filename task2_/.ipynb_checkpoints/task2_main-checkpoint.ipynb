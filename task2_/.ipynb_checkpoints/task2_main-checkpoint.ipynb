{
 "cells": [
  {
   "cell_type": "code",
   "execution_count": 1,
   "metadata": {},
   "outputs": [],
   "source": [
    "import pandas as pd\n",
    "import sklearn\n",
    "import numpy as np\n",
    "from sklearn import *"
   ]
  },
  {
   "cell_type": "code",
   "execution_count": 2,
   "metadata": {},
   "outputs": [],
   "source": [
    "# Loading the files\n",
    "train_features = pd.read_csv(\"train_features.csv\") # training X\n",
    "train_labels = pd.read_csv(\"train_labels.csv\") # training Y\n",
    "test_features = pd.read_csv(\"test_features.csv\") # testing X"
   ]
  },
  {
   "cell_type": "code",
   "execution_count": 4,
   "metadata": {},
   "outputs": [],
   "source": [
    "train_labels_cropped = train_labels.loc[: , \"pid\":\"LABEL_EtCO2\"]"
   ]
  },
  {
   "cell_type": "code",
   "execution_count": 5,
   "metadata": {},
   "outputs": [],
   "source": [
    "trainfeatureaary = np.array(train_features)\n",
    "patients = np.vsplit(trainfeatureaary , 18995) #TODO de-hardcode "
   ]
  },
  {
   "cell_type": "code",
   "execution_count": 6,
   "metadata": {},
   "outputs": [
    {
     "data": {
      "text/plain": [
       "array([1.000e+00, 1.000e+01, 1.000e+02, ..., 9.996e+03, 9.998e+03,\n",
       "       9.999e+03])"
      ]
     },
     "execution_count": 6,
     "metadata": {},
     "output_type": "execute_result"
    }
   ],
   "source": [
    "patient_h = np.array(patients)\n",
    "patient_h[:,0,0]"
   ]
  },
  {
   "cell_type": "code",
   "execution_count": 7,
   "metadata": {},
   "outputs": [],
   "source": [
    "features = np.zeros([18995, 2+5*34]) # no of patients, no of features* no of columns names(age, calcium, bolirubin...)\n",
    "# columns are: pid, age, mean(of all featuers), var, max, min, median"
   ]
  },
  {
   "cell_type": "code",
   "execution_count": 8,
   "metadata": {},
   "outputs": [],
   "source": [
    "features[:,0] = patient_h[:,0,0] #Patient id\n",
    "features[:,1] = patient_h[:,0,2] # Age"
   ]
  },
  {
   "cell_type": "code",
   "execution_count": 9,
   "metadata": {},
   "outputs": [
    {
     "name": "stderr",
     "output_type": "stream",
     "text": [
      "C:\\Users\\paulm\\Anaconda3\\lib\\site-packages\\ipykernel_launcher.py:1: RuntimeWarning: Mean of empty slice\n",
      "  \"\"\"Entry point for launching an IPython kernel.\n"
     ]
    }
   ],
   "source": [
    "means = np.nanmean(patient_h[:, :, 3:], axis=1)"
   ]
  },
  {
   "cell_type": "code",
   "execution_count": 10,
   "metadata": {},
   "outputs": [],
   "source": [
    "features[:,2:34+2] = means"
   ]
  },
  {
   "cell_type": "code",
   "execution_count": 11,
   "metadata": {},
   "outputs": [
    {
     "name": "stderr",
     "output_type": "stream",
     "text": [
      "C:\\Users\\paulm\\Anaconda3\\lib\\site-packages\\ipykernel_launcher.py:1: RuntimeWarning: Degrees of freedom <= 0 for slice.\n",
      "  \"\"\"Entry point for launching an IPython kernel.\n"
     ]
    }
   ],
   "source": [
    "variances = np.nanvar(patient_h[:, :, 3:], axis=1);\n",
    "features[:,34+2:2*34+2] = variances"
   ]
  },
  {
   "cell_type": "code",
   "execution_count": 12,
   "metadata": {},
   "outputs": [
    {
     "name": "stderr",
     "output_type": "stream",
     "text": [
      "C:\\Users\\paulm\\Anaconda3\\lib\\site-packages\\ipykernel_launcher.py:1: RuntimeWarning: All-NaN slice encountered\n",
      "  \"\"\"Entry point for launching an IPython kernel.\n"
     ]
    }
   ],
   "source": [
    "maxs = np.nanmax(patient_h[:, :, 3:], axis=1);\n",
    "features[:,2*34+2:3*34+2] = maxs"
   ]
  },
  {
   "cell_type": "code",
   "execution_count": 13,
   "metadata": {},
   "outputs": [
    {
     "name": "stderr",
     "output_type": "stream",
     "text": [
      "C:\\Users\\paulm\\Anaconda3\\lib\\site-packages\\ipykernel_launcher.py:1: RuntimeWarning: All-NaN slice encountered\n",
      "  \"\"\"Entry point for launching an IPython kernel.\n"
     ]
    }
   ],
   "source": [
    "mins = np.nanmin(patient_h[:, :, 3:], axis=1);\n",
    "features[:,3*34+2:4*34+2] = mins"
   ]
  },
  {
   "cell_type": "code",
   "execution_count": 14,
   "metadata": {},
   "outputs": [
    {
     "name": "stderr",
     "output_type": "stream",
     "text": [
      "C:\\Users\\paulm\\Anaconda3\\lib\\site-packages\\numpy\\lib\\function_base.py:3250: RuntimeWarning: All-NaN slice encountered\n",
      "  r = func(a, **kwargs)\n"
     ]
    }
   ],
   "source": [
    "medians = np.nanmedian(patient_h[:, :, 3:], axis=1);\n",
    "features[:,4*34+2:5*34+2] = medians"
   ]
  },
  {
   "cell_type": "code",
   "execution_count": 16,
   "metadata": {},
   "outputs": [
    {
     "data": {
      "text/plain": [
       "array([ 1.00000000e+00,  3.40000000e+01,             nan,             nan,\n",
       "        1.20000000e+01,             nan,  3.67500000e+01,  8.56666667e+00,\n",
       "        2.53333333e+01, -6.66666667e-01,  1.70000000e+01,             nan,\n",
       "        4.60000000e+00,  5.23333333e+00,  5.00000000e-01,  4.33333333e+01,\n",
       "                   nan,  4.25000000e-01,  1.43000000e+02,             nan,\n",
       "        1.20000000e+02,  6.83333333e+01,  1.80000000e+00,  4.00000000e+00,\n",
       "        5.02500000e+01,  7.60000000e+00,             nan,  1.00000000e+02,\n",
       "                   nan,  1.12000000e+02,  2.32000000e+01,  7.70833333e+01,\n",
       "                   nan,             nan,  1.14500000e+02,  7.37000000e+00,\n",
       "                   nan,             nan,  0.00000000e+00,             nan,\n",
       "        4.37500000e-01,  8.88888889e-03,  8.88888889e-01,  8.88888889e-01,\n",
       "        3.00000000e+00,             nan,  0.00000000e+00,  5.68888889e-01,\n",
       "        0.00000000e+00,  1.55555556e+00,             nan,  1.87500000e-03,\n",
       "        0.00000000e+00,             nan,  0.00000000e+00,  6.33888889e+01,\n",
       "        1.08000000e-01,  2.00000000e-02,  4.62291667e+01,  0.00000000e+00,\n",
       "                   nan,  0.00000000e+00,             nan,  2.00000000e+00,\n",
       "        8.26666667e-01,  1.77576389e+02,             nan,             nan,\n",
       "        1.33916667e+02,  8.00000000e-04,             nan,             nan,\n",
       "        1.20000000e+01,             nan,  3.80000000e+01,  8.70000000e+00,\n",
       "        2.60000000e+01,  0.00000000e+00,  1.80000000e+01,             nan,\n",
       "        4.60000000e+00,  6.30000000e+00,  5.00000000e-01,  4.50000000e+01,\n",
       "                   nan,  5.00000000e-01,  1.43000000e+02,             nan,\n",
       "        1.20000000e+02,  8.40000000e+01,  2.10000000e+00,  4.10000000e+00,\n",
       "        6.25000000e+01,  7.60000000e+00,             nan,  1.00000000e+02,\n",
       "                   nan,  1.14000000e+02,  2.46000000e+01,  9.90000000e+01,\n",
       "                   nan,             nan,  1.42000000e+02,  7.41000000e+00,\n",
       "                   nan,             nan,  1.20000000e+01,             nan,\n",
       "        3.60000000e+01,  8.50000000e+00,  2.40000000e+01, -2.00000000e+00,\n",
       "        1.20000000e+01,             nan,  4.60000000e+00,  4.70000000e+00,\n",
       "        5.00000000e-01,  4.20000000e+01,             nan,  4.00000000e-01,\n",
       "        1.43000000e+02,             nan,  1.20000000e+02,  5.30000000e+01,\n",
       "        1.20000000e+00,  3.80000000e+00,  3.90000000e+01,  7.60000000e+00,\n",
       "                   nan,  1.00000000e+02,             nan,  1.11000000e+02,\n",
       "        2.22000000e+01,  5.80000000e+01,             nan,             nan,\n",
       "        1.00000000e+02,  7.33000000e+00,             nan,             nan,\n",
       "        1.20000000e+01,             nan,  3.70000000e+01,  8.50000000e+00,\n",
       "        2.60000000e+01,  0.00000000e+00,  1.80000000e+01,             nan,\n",
       "        4.60000000e+00,  4.70000000e+00,  5.00000000e-01,  4.30000000e+01,\n",
       "                   nan,  4.00000000e-01,  1.43000000e+02,             nan,\n",
       "        1.20000000e+02,  6.75000000e+01,  1.80000000e+00,  4.10000000e+00,\n",
       "        4.85000000e+01,  7.60000000e+00,             nan,  1.00000000e+02,\n",
       "                   nan,  1.11000000e+02,  2.31000000e+01,  7.50000000e+01,\n",
       "                   nan,             nan,  1.11000000e+02,  7.37000000e+00])"
      ]
     },
     "execution_count": 16,
     "metadata": {},
     "output_type": "execute_result"
    }
   ],
   "source": [
    "features[0]"
   ]
  },
  {
   "cell_type": "markdown",
   "metadata": {},
   "source": [
    "now, we have a nice $\\Phi$ matrix"
   ]
  },
  {
   "cell_type": "code",
   "execution_count": null,
   "metadata": {},
   "outputs": [],
   "source": []
  }
 ],
 "metadata": {
  "kernelspec": {
   "display_name": "Python 3",
   "language": "python",
   "name": "python3"
  },
  "language_info": {
   "codemirror_mode": {
    "name": "ipython",
    "version": 3
   },
   "file_extension": ".py",
   "mimetype": "text/x-python",
   "name": "python",
   "nbconvert_exporter": "python",
   "pygments_lexer": "ipython3",
   "version": "3.7.1"
  }
 },
 "nbformat": 4,
 "nbformat_minor": 2
}
