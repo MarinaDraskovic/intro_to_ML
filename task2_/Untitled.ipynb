{
 "cells": [
  {
   "cell_type": "code",
   "execution_count": 55,
   "metadata": {},
   "outputs": [],
   "source": [
    "import pandas as pd\n",
    "import sklearn\n",
    "import numpy as np\n",
    "from sklearn import *"
   ]
  },
  {
   "cell_type": "code",
   "execution_count": 56,
   "metadata": {},
   "outputs": [],
   "source": [
    "# Loading the files\n",
    "train_features = pd.read_csv(\"train_features.csv\") # training X\n",
    "train_labels = pd.read_csv(\"train_labels.csv\") # training Y\n",
    "test_features = pd.read_csv(\"test_features.csv\") # testing X"
   ]
  },
  {
   "cell_type": "code",
   "execution_count": 57,
   "metadata": {},
   "outputs": [],
   "source": [
    "# Getting the data we need for subtask 1\n",
    "train_labels_cropped = train_labels.loc[: , \"pid\":\"LABEL_EtCO2\"] "
   ]
  },
  {
   "cell_type": "code",
   "execution_count": 58,
   "metadata": {},
   "outputs": [],
   "source": [
    "# Transforming train features into an array where each element is one patient\n",
    "trainfeatureaary = np.array(train_features)\n",
    "\n",
    "number_of_hours = 12\n",
    "patients = np.vsplit(trainfeatureaary , int(train_features.shape[0]/number_of_hours))\n",
    "patients_array = np.array(patients)"
   ]
  },
  {
   "cell_type": "code",
   "execution_count": 59,
   "metadata": {},
   "outputs": [],
   "source": [
    "# We are creating a new matrix (Phi) that contains statistical features for every patient: pid, age, mean, var, max, min,median\n",
    "features = np.zeros([int(train_features.shape[0]/number_of_hours), 2+5*34]) # no of patients, no of features* no of columns names(age, calcium, bolirubin...)\n",
    "# columns are: pid, age, mean(of all featuers), var, max, min, median"
   ]
  },
  {
   "cell_type": "code",
   "execution_count": 60,
   "metadata": {},
   "outputs": [
    {
     "name": "stderr",
     "output_type": "stream",
     "text": [
      "<ipython-input-60-bc12c65f11a2>:4: RuntimeWarning: Mean of empty slice\n",
      "  means = np.nanmean(patients_array[:, :, 3:], axis=1)\n",
      "<ipython-input-60-bc12c65f11a2>:9: RuntimeWarning: Degrees of freedom <= 0 for slice.\n",
      "  variances = np.nanvar(patients_array[:, :, 3:], axis=1);\n",
      "<ipython-input-60-bc12c65f11a2>:12: RuntimeWarning: All-NaN slice encountered\n",
      "  maxs = np.nanmax(patients_array[:, :, 3:], axis=1);\n",
      "<ipython-input-60-bc12c65f11a2>:15: RuntimeWarning: All-NaN slice encountered\n",
      "  mins = np.nanmin(patients_array[:, :, 3:], axis=1);\n"
     ]
    }
   ],
   "source": [
    "features[:,0] = patients_array[:,0,0] #Patient id\n",
    "features[:,1] = patients_array[:,0,2] # Age\n",
    "\n",
    "means = np.nanmean(patients_array[:, :, 3:], axis=1)\n",
    "statistical_features = int(train_features.shape[1])-3  # Number of columns - pid - age - time\n",
    "\n",
    "features[:,2:statistical_features+2] = means\n",
    "\n",
    "variances = np.nanvar(patients_array[:, :, 3:], axis=1);\n",
    "features[:,statistical_features+2:2*statistical_features+2] = variances\n",
    "\n",
    "maxs = np.nanmax(patients_array[:, :, 3:], axis=1);\n",
    "features[:,2*statistical_features+2:3*statistical_features+2] = maxs\n",
    "\n",
    "mins = np.nanmin(patients_array[:, :, 3:], axis=1);\n",
    "features[:,3*statistical_features+2:4*statistical_features+2] = mins\n",
    "\n",
    "medians = np.nanmedian(patients_array[:, :, 3:], axis=1);\n",
    "features[:,4*statistical_features+2:5*statistical_features+2] = medians"
   ]
  },
  {
   "cell_type": "code",
   "execution_count": 61,
   "metadata": {},
   "outputs": [
    {
     "data": {
      "text/plain": [
       "array([ 1.00000000e+00,  3.40000000e+01,             nan,             nan,\n",
       "        1.20000000e+01,             nan,  3.67500000e+01,  8.56666667e+00,\n",
       "        2.53333333e+01, -6.66666667e-01,  1.70000000e+01,             nan,\n",
       "        4.60000000e+00,  5.23333333e+00,  5.00000000e-01,  4.33333333e+01,\n",
       "                   nan,  4.25000000e-01,  1.43000000e+02,             nan,\n",
       "        1.20000000e+02,  6.83333333e+01,  1.80000000e+00,  4.00000000e+00,\n",
       "        5.02500000e+01,  7.60000000e+00,             nan,  1.00000000e+02,\n",
       "                   nan,  1.12000000e+02,  2.32000000e+01,  7.70833333e+01,\n",
       "                   nan,             nan,  1.14500000e+02,  7.37000000e+00,\n",
       "                   nan,             nan,  0.00000000e+00,             nan,\n",
       "        4.37500000e-01,  8.88888889e-03,  8.88888889e-01,  8.88888889e-01,\n",
       "        3.00000000e+00,             nan,  0.00000000e+00,  5.68888889e-01,\n",
       "        0.00000000e+00,  1.55555556e+00,             nan,  1.87500000e-03,\n",
       "        0.00000000e+00,             nan,  0.00000000e+00,  6.33888889e+01,\n",
       "        1.08000000e-01,  2.00000000e-02,  4.62291667e+01,  0.00000000e+00,\n",
       "                   nan,  0.00000000e+00,             nan,  2.00000000e+00,\n",
       "        8.26666667e-01,  1.77576389e+02,             nan,             nan,\n",
       "        1.33916667e+02,  8.00000000e-04,             nan,             nan,\n",
       "        1.20000000e+01,             nan,  3.80000000e+01,  8.70000000e+00,\n",
       "        2.60000000e+01,  0.00000000e+00,  1.80000000e+01,             nan,\n",
       "        4.60000000e+00,  6.30000000e+00,  5.00000000e-01,  4.50000000e+01,\n",
       "                   nan,  5.00000000e-01,  1.43000000e+02,             nan,\n",
       "        1.20000000e+02,  8.40000000e+01,  2.10000000e+00,  4.10000000e+00,\n",
       "        6.25000000e+01,  7.60000000e+00,             nan,  1.00000000e+02,\n",
       "                   nan,  1.14000000e+02,  2.46000000e+01,  9.90000000e+01,\n",
       "                   nan,             nan,  1.42000000e+02,  7.41000000e+00,\n",
       "                   nan,             nan,  1.20000000e+01,             nan,\n",
       "        3.60000000e+01,  8.50000000e+00,  2.40000000e+01, -2.00000000e+00,\n",
       "        1.20000000e+01,             nan,  4.60000000e+00,  4.70000000e+00,\n",
       "        5.00000000e-01,  4.20000000e+01,             nan,  4.00000000e-01,\n",
       "        1.43000000e+02,             nan,  1.20000000e+02,  5.30000000e+01,\n",
       "        1.20000000e+00,  3.80000000e+00,  3.90000000e+01,  7.60000000e+00,\n",
       "                   nan,  1.00000000e+02,             nan,  1.11000000e+02,\n",
       "        2.22000000e+01,  5.80000000e+01,             nan,             nan,\n",
       "        1.00000000e+02,  7.33000000e+00,             nan,             nan,\n",
       "        1.20000000e+01,             nan,  3.70000000e+01,  8.50000000e+00,\n",
       "        2.60000000e+01,  0.00000000e+00,  1.80000000e+01,             nan,\n",
       "        4.60000000e+00,  4.70000000e+00,  5.00000000e-01,  4.30000000e+01,\n",
       "                   nan,  4.00000000e-01,  1.43000000e+02,             nan,\n",
       "        1.20000000e+02,  6.75000000e+01,  1.80000000e+00,  4.10000000e+00,\n",
       "        4.85000000e+01,  7.60000000e+00,             nan,  1.00000000e+02,\n",
       "                   nan,  1.11000000e+02,  2.31000000e+01,  7.50000000e+01,\n",
       "                   nan,             nan,  1.11000000e+02,  7.37000000e+00])"
      ]
     },
     "execution_count": 61,
     "metadata": {},
     "output_type": "execute_result"
    }
   ],
   "source": [
    "features[0]"
   ]
  },
  {
   "cell_type": "markdown",
   "metadata": {},
   "source": [
    "now, we have a nice $\\Phi$ matrix"
   ]
  },
  {
   "cell_type": "code",
   "execution_count": null,
   "metadata": {},
   "outputs": [],
   "source": []
  },
  {
   "cell_type": "code",
   "execution_count": null,
   "metadata": {},
   "outputs": [],
   "source": []
  }
 ],
 "metadata": {
  "kernelspec": {
   "display_name": "Python 3",
   "language": "python",
   "name": "python3"
  },
  "language_info": {
   "codemirror_mode": {
    "name": "ipython",
    "version": 3
   },
   "file_extension": ".py",
   "mimetype": "text/x-python",
   "name": "python",
   "nbconvert_exporter": "python",
   "pygments_lexer": "ipython3",
   "version": "3.8.5"
  }
 },
 "nbformat": 4,
 "nbformat_minor": 4
}
