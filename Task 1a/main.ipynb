{
 "cells": [
  {
   "cell_type": "code",
   "execution_count": 72,
   "metadata": {},
   "outputs": [],
   "source": [
    "import pandas as pd\n",
    "import sklearn\n",
    "import numpy as np\n",
    "from sklearn import *"
   ]
  },
  {
   "cell_type": "code",
   "execution_count": 73,
   "metadata": {},
   "outputs": [],
   "source": [
    "train_data = pd.read_csv(\"train.csv\")      # Loading the files\n",
    "sample_data = pd.read_csv(\"sample.csv\")"
   ]
  },
  {
   "cell_type": "code",
   "execution_count": 74,
   "metadata": {},
   "outputs": [],
   "source": [
    "lambdas = [0.1, 1, 10, 100, 200]\n",
    "rmse = np.zeros(5)                         # Initializing RMSE for each lambda\n",
    "\n",
    "for i in [0,1,2,3,4]:                      # Iterating over each lambda\n",
    "    y = np.array(train_data.loc[:, 'y'])   # Extracting y-s and x-s from the given train data\n",
    "    x = np.array(train_data.loc[:, 'x1':'x13'])\n",
    "                                           # Spliting the data into 10 segments\n",
    "    kf = sklearn.model_selection.KFold(n_splits=10, shuffle=False)\n",
    "    j = 0\n",
    "    rmsetemp = np.zeros(10)\n",
    "    for train_index, test_index in kf.split(x):  # For CV we separate data into 9 chunks of train data and 1 of test data.\n",
    "                                                 # We try all combinations of which chunks are train and which are test data\n",
    "        ridge_model = linear_model.Ridge(alpha = lambdas[i])   # Training model\n",
    "        ridge_model.fit(x[train_index], y[train_index])\n",
    "        ridge_predict = ridge_model.predict(x[test_index])     # Use the trained model to predict the test data\n",
    "        true_y = y[test_index]\n",
    "        rmsetemp[j] = np.sqrt(sum((true_y-ridge_predict)*(true_y-ridge_predict)) / len(true_y))   # Calculate RMSE    \n",
    "        j=j+1\n",
    "    \n",
    "    rmse[i] = sum(rmsetemp)/10"
   ]
  },
  {
   "cell_type": "code",
   "execution_count": 75,
   "metadata": {},
   "outputs": [],
   "source": [
    "pd.DataFrame(rmse).to_csv(\"outout.csv\", header=None, index=None)   # Printing to file"
   ]
  },
  {
   "cell_type": "code",
   "execution_count": null,
   "metadata": {},
   "outputs": [],
   "source": []
  }
 ],
 "metadata": {
  "kernelspec": {
   "display_name": "Python 3",
   "language": "python",
   "name": "python3"
  },
  "language_info": {
   "codemirror_mode": {
    "name": "ipython",
    "version": 3
   },
   "file_extension": ".py",
   "mimetype": "text/x-python",
   "name": "python",
   "nbconvert_exporter": "python",
   "pygments_lexer": "ipython3",
   "version": "3.8.5"
  }
 },
 "nbformat": 4,
 "nbformat_minor": 4
}
