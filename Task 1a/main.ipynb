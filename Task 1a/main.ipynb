{
 "cells": [
  {
   "cell_type": "code",
   "execution_count": 34,
   "metadata": {},
   "outputs": [],
   "source": [
    "import pandas as pd\n",
    "import sklearn\n",
    "import numpy as np\n",
    "from sklearn import *\n"
   ]
  },
  {
   "cell_type": "code",
   "execution_count": 35,
   "metadata": {},
   "outputs": [],
   "source": [
    "train_data = pd.read_csv(\"train.csv\")\n",
    "sample_data = pd.read_csv(\"sample.csv\")"
   ]
  },
  {
   "cell_type": "code",
   "execution_count": 39,
   "metadata": {},
   "outputs": [],
   "source": [
    "lambdas = [0.1, 1, 10, 100, 200]\n",
    "rmse = np.zeros(5)\n",
    "\n",
    "for i in [0,1,2,3,4]:\n",
    "    y = np.array(train_data.loc[:, 'y'])\n",
    "    x = np.array(train_data.loc[:, 'x1':'x13'])\n",
    "\n",
    "    kf = sklearn.model_selection.KFold(n_splits=10, shuffle=False)\n",
    "    \n",
    "    for train_index, test_index in kf.split(x):  \n",
    "        ridge_model = linear_model.Ridge(alpha = lambdas[i])\n",
    "        ridge_model.fit(x[train_index], y[train_index])\n",
    "        ridge_predict = ridge_model.predict(x[test_index]) \n",
    "        true_y = y[test_index]\n",
    "        # rmse[i] = np.sqrt(sum((true_y-ridge_predict)**2) / len(true_y))\n",
    "        sklearn.metrics.mean_squared_error(true_y, ridge_predict)\n",
    "    "
   ]
  },
  {
   "cell_type": "code",
   "execution_count": 42,
   "metadata": {},
   "outputs": [],
   "source": [
    "pd.DataFrame(rmse).to_csv(\"outout.csv\", header=None, index=None)"
   ]
  },
  {
   "cell_type": "code",
   "execution_count": 43,
   "metadata": {},
   "outputs": [
    {
     "data": {
      "text/plain": [
       "array([35.4, 24. , 13.4, 26.2,  7.2, 13.1, 24.5, 37.2, 25. , 24.1, 16.6,\n",
       "       32.9, 36.2, 11. ,  7.2])"
      ]
     },
     "execution_count": 43,
     "metadata": {},
     "output_type": "execute_result"
    }
   ],
   "source": [
    "true_y"
   ]
  },
  {
   "cell_type": "code",
   "execution_count": 44,
   "metadata": {},
   "outputs": [
    {
     "data": {
      "text/plain": [
       "array([31.53348051, 25.70991269, 12.46599609, 25.11683889,  6.19122924,\n",
       "       15.18703823, 19.65470201, 31.5158503 , 28.15305316, 22.77177803,\n",
       "       18.85231529, 28.40566362, 28.54085302, 13.40204063,  8.80977803])"
      ]
     },
     "execution_count": 44,
     "metadata": {},
     "output_type": "execute_result"
    }
   ],
   "source": [
    "ridge_predict"
   ]
  },
  {
   "cell_type": "code",
   "execution_count": 45,
   "metadata": {},
   "outputs": [
    {
     "data": {
      "text/plain": [
       "array([ 3.86651949, -1.70991269,  0.93400391,  1.08316111,  1.00877076,\n",
       "       -2.08703823,  4.84529799,  5.6841497 , -3.15305316,  1.32822197,\n",
       "       -2.25231529,  4.49433638,  7.65914698, -2.40204063, -1.60977803])"
      ]
     },
     "execution_count": 45,
     "metadata": {},
     "output_type": "execute_result"
    }
   ],
   "source": [
    "true_y-ridge_predict"
   ]
  },
  {
   "cell_type": "code",
   "execution_count": 46,
   "metadata": {},
   "outputs": [
    {
     "data": {
      "text/plain": [
       "array([14.94997296,  2.92380142,  0.87236331,  1.17323799,  1.01761844,\n",
       "        4.35572857, 23.47691266, 32.30955786,  9.94174421,  1.7641736 ,\n",
       "        5.07292419, 20.19905947, 58.66253248,  5.76979921,  2.59138531])"
      ]
     },
     "execution_count": 46,
     "metadata": {},
     "output_type": "execute_result"
    }
   ],
   "source": [
    "(true_y-ridge_predict)**2"
   ]
  },
  {
   "cell_type": "code",
   "execution_count": 47,
   "metadata": {},
   "outputs": [
    {
     "data": {
      "text/plain": [
       "185.08081166305828"
      ]
     },
     "execution_count": 47,
     "metadata": {},
     "output_type": "execute_result"
    }
   ],
   "source": [
    "sum((true_y-ridge_predict)**2)"
   ]
  },
  {
   "cell_type": "code",
   "execution_count": null,
   "metadata": {},
   "outputs": [],
   "source": []
  }
 ],
 "metadata": {
  "kernelspec": {
   "display_name": "Python 3",
   "language": "python",
   "name": "python3"
  },
  "language_info": {
   "codemirror_mode": {
    "name": "ipython",
    "version": 3
   },
   "file_extension": ".py",
   "mimetype": "text/x-python",
   "name": "python",
   "nbconvert_exporter": "python",
   "pygments_lexer": "ipython3",
   "version": "3.8.5"
  }
 },
 "nbformat": 4,
 "nbformat_minor": 4
}
